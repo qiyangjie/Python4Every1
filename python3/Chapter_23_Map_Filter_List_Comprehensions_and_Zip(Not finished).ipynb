{
 "cells": [
  {
   "cell_type": "markdown",
   "metadata": {},
   "source": [
    "# Chapter_23\n",
    "\n",
    "## 1. Introduction\n",
    "\n",
    "All in this chapter is a higher level use of LIST.\n",
    "\n",
    "## 2. Map"
   ]
  },
  {
   "cell_type": "code",
   "execution_count": 2,
   "metadata": {},
   "outputs": [
    {
     "name": "stdout",
     "output_type": "stream",
     "text": [
      "[4, 10, 18]\n"
     ]
    }
   ],
   "source": [
    "things = [2, 5, 9]\n",
    "\n",
    "things_1 = []\n",
    "for thing in things:\n",
    "    things_1.append(thing*2)\n",
    "    \n",
    "print(things_1)"
   ]
  },
  {
   "cell_type": "code",
   "execution_count": 5,
   "metadata": {},
   "outputs": [
    {
     "name": "stdout",
     "output_type": "stream",
     "text": [
      "<map object at 0x000002D89A912160>\n",
      "[4, 10, 18]\n"
     ]
    }
   ],
   "source": [
    "things_2 = map(lambda x: x*2, things)\n",
    "print(things_2)\n",
    "print(list(things_2))"
   ]
  },
  {
   "cell_type": "markdown",
   "metadata": {},
   "source": [
    "## 3. Filter"
   ]
  },
  {
   "cell_type": "code",
   "execution_count": 12,
   "metadata": {},
   "outputs": [
    {
     "name": "stdout",
     "output_type": "stream",
     "text": [
      "[4, 6, 0]\n"
     ]
    }
   ],
   "source": [
    "nums = [3, 4, 6, 7, 0, 1]\n",
    "\n",
    "new_list = []\n",
    "for num in nums:\n",
    "    if num % 2 == 0:\n",
    "        new_list.append(num)\n",
    "        \n",
    "print(new_list)"
   ]
  },
  {
   "cell_type": "code",
   "execution_count": 17,
   "metadata": {},
   "outputs": [
    {
     "name": "stdout",
     "output_type": "stream",
     "text": [
      "<filter object at 0x000002D89A912BA8>\n",
      "[4, 6, 0]\n"
     ]
    }
   ],
   "source": [
    "new_seq = filter(lambda num: num % 2 == 0, nums)\n",
    "print(new_seq)\n",
    "print(list(new_seq))"
   ]
  },
  {
   "cell_type": "markdown",
   "metadata": {},
   "source": [
    "## 4. List Comprehensions\n",
    "\n",
    "```\n",
    "[<transformer_expression> for <loop_var> in <sequence> if <filtration_expression>]\n",
    "```"
   ]
  },
  {
   "cell_type": "code",
   "execution_count": 23,
   "metadata": {},
   "outputs": [
    {
     "name": "stdout",
     "output_type": "stream",
     "text": [
      "[4, 10, 18]\n",
      "[4]\n"
     ]
    }
   ],
   "source": [
    "things = [2, 5, 9]\n",
    "\n",
    "yourlist = [value * 2 for value in things]\n",
    "\n",
    "print(yourlist)\n",
    "\n",
    "print([x*2 for x in things if x % 2 == 0])"
   ]
  },
  {
   "cell_type": "markdown",
   "metadata": {},
   "source": [
    "## 5. Zip\n",
    "\n",
    "One more common pattern with lists, besides accumulation, is to step through a pair of lists (or several lists), doing something with all of the first items, then something with all of the second items, and so on. "
   ]
  },
  {
   "cell_type": "code",
   "execution_count": 30,
   "metadata": {},
   "outputs": [
    {
     "name": "stdout",
     "output_type": "stream",
     "text": [
      "[4, 6, 8]\n"
     ]
    }
   ],
   "source": [
    "L1 = [3, 4, 5]\n",
    "L2 = [1, 2, 3]\n",
    "L3 = []\n",
    "\n",
    "for i in range(len(L1)):\n",
    "    L3.append(L1[i] + L2[i])\n",
    "\n",
    "print(L3)"
   ]
  },
  {
   "cell_type": "code",
   "execution_count": 31,
   "metadata": {},
   "outputs": [
    {
     "name": "stdout",
     "output_type": "stream",
     "text": [
      "[(3, 1), (4, 2), (5, 3)]\n"
     ]
    }
   ],
   "source": [
    "L1 = [3, 4, 5]\n",
    "L2 = [1, 2, 3]\n",
    "L4 = list(zip(L1, L2))\n",
    "print(L4)"
   ]
  },
  {
   "cell_type": "code",
   "execution_count": 32,
   "metadata": {},
   "outputs": [
    {
     "name": "stdout",
     "output_type": "stream",
     "text": [
      "[4, 6, 8]\n"
     ]
    }
   ],
   "source": [
    "L1 = [3, 4, 5]\n",
    "L2 = [1, 2, 3]\n",
    "L3 = []\n",
    "L4 = list(zip(L1, L2))\n",
    "\n",
    "for (x1, x2) in L4:\n",
    "    L3.append(x1+x2)\n",
    "\n",
    "print(L3)"
   ]
  },
  {
   "cell_type": "markdown",
   "metadata": {},
   "source": [
    "## Practices\n",
    "\n",
    "2.1 Using map, create a list assigned to the variable `greeting_doubled` that doubles each element in the list `lst`."
   ]
  },
  {
   "cell_type": "code",
   "execution_count": 7,
   "metadata": {},
   "outputs": [
    {
     "name": "stdout",
     "output_type": "stream",
     "text": [
      "[['hi', 'bye', 'hi', 'bye'], 'hellohello', 'goodbyegoodbye', [9, 2, 9, 2], 8]\n"
     ]
    }
   ],
   "source": [
    "lst = [[\"hi\", \"bye\"], \"hello\", \"goodbye\", [9, 2], 4]\n",
    "\n",
    "greeting_doubled = list(map(lambda x: x*2,lst))\n",
    "print(greeting_doubled)"
   ]
  },
  {
   "cell_type": "markdown",
   "metadata": {},
   "source": [
    "2.2 Below, we have provided a list of strings called `abbrevs`. Use map to produce a new list called `abbrevs_upper` that contains all the same strings in upper case."
   ]
  },
  {
   "cell_type": "code",
   "execution_count": 16,
   "metadata": {},
   "outputs": [
    {
     "name": "stdout",
     "output_type": "stream",
     "text": [
      "['USA', 'ESP', 'CHN', 'JPN', 'MEX', 'CAN', 'RUS', 'RSA', 'JAM']\n"
     ]
    }
   ],
   "source": [
    "abbrevs = [\"usa\", \"esp\", \"chn\", \"jpn\", \"mex\", \"can\", \"rus\", \"rsa\", \"jam\"]\n",
    "\n",
    "abbrevs_upper = list(map(lambda x: x.upper(),abbrevs))\n",
    "print(abbrevs_upper)"
   ]
  },
  {
   "cell_type": "markdown",
   "metadata": {},
   "source": [
    "3.1 Write code to assign to the variable `filter_testing` all the elements in lst_check that have a w in them using filter."
   ]
  },
  {
   "cell_type": "code",
   "execution_count": 20,
   "metadata": {},
   "outputs": [
    {
     "name": "stdout",
     "output_type": "stream",
     "text": [
      "['watermelon', 'kiwi', 'strawberries']\n"
     ]
    }
   ],
   "source": [
    "lst_check = ['plums', 'watermelon', 'kiwi', 'strawberries', 'blueberries', 'peaches', 'apples', 'mangos', 'papaya']\n",
    "\n",
    "filter_testing = list(filter(lambda x: 'w' in x, lst_check))\n",
    "\n",
    "print(filter_testing)"
   ]
  },
  {
   "cell_type": "markdown",
   "metadata": {},
   "source": [
    "3.2 Using filter, filter `lst` so that it only contains words containing the letter “o”. Assign to variable `lst2`."
   ]
  },
  {
   "cell_type": "code",
   "execution_count": 21,
   "metadata": {},
   "outputs": [
    {
     "name": "stdout",
     "output_type": "stream",
     "text": [
      "['halloween', 'wagon', 'moon']\n"
     ]
    }
   ],
   "source": [
    "lst = [\"witch\", \"halloween\", \"pumpkin\", \"cat\", \"candy\", \"wagon\", \"moon\"]\n",
    "\n",
    "lst2 = list(filter(lambda x: 'o' in x, lst))\n",
    "\n",
    "print(lst2)"
   ]
  },
  {
   "cell_type": "markdown",
   "metadata": {},
   "source": [
    "4.2  The for loop below produces a list of numbers greater than 10. Below the given code, use list comprehension to accomplish the same thing. Assign it the the variable `lst2`."
   ]
  },
  {
   "cell_type": "code",
   "execution_count": 26,
   "metadata": {},
   "outputs": [
    {
     "name": "stdout",
     "output_type": "stream",
     "text": [
      "[12, 34, 21, 42]\n"
     ]
    }
   ],
   "source": [
    "L = [12, 34, 21, 4, 6, 9, 42]\n",
    "\n",
    "lst2 = [x for x in L if x>10 ]\n",
    "print(list2)"
   ]
  },
  {
   "cell_type": "code",
   "execution_count": 29,
   "metadata": {},
   "outputs": [
    {
     "name": "stdout",
     "output_type": "stream",
     "text": [
      "['Lauren', 'Ayo', 'Kathryn', 'Nick', 'Gladys', 'Adam']\n"
     ]
    }
   ],
   "source": [
    "tester = {'info': [{\"name\": \"Lauren\", 'class standing': 'Junior', 'major': \"Information Science\"},\\\n",
    "                   {'name': 'Ayo', 'class standing': \"Bachelor's\", 'major': 'Information Science'},\\\n",
    "                   {'name': 'Kathryn', 'class standing': 'Senior', 'major': 'Sociology'},\\\n",
    "                   {'name': 'Nick', 'class standing': 'Junior', 'major': 'Computer Science'},\\\n",
    "                   {'name': 'Gladys', 'class standing': 'Sophomore', 'major': 'History'},\\\n",
    "                   {'name': 'Adam', 'major': 'Violin Performance', 'class standing': 'Senior'}]}\n",
    "\n",
    "compri = [x['name'] for x in tester['info']]\n",
    "print(compri)"
   ]
  },
  {
   "cell_type": "markdown",
   "metadata": {},
   "source": [
    "5.1 Below we have provided two lists of numbers, `L1` and `L2`. Using zip and list comprehension, create a new list, `L3`, that sums the two numbers if the number from L1 is greater than 10 and the number from L2 is less than 5. This can be accomplished in one line of code."
   ]
  },
  {
   "cell_type": "code",
   "execution_count": 36,
   "metadata": {},
   "outputs": [
    {
     "name": "stdout",
     "output_type": "stream",
     "text": [
      "[18, 57, 103]\n"
     ]
    }
   ],
   "source": [
    "L1 = [1, 5, 2, 16, 32, 3, 54, 8, 100]\n",
    "L2 = [1, 3, 10, 2, 42, 2, 3, 4, 3]\n",
    "\n",
    "L3 = [x1+x2 for x1,x2 in zip(L1,L2) if x1>10 and x2<5]\n",
    "\n",
    "print(L3)"
   ]
  },
  {
   "cell_type": "markdown",
   "metadata": {},
   "source": [
    "##  Exercise (Not Finished)"
   ]
  },
  {
   "cell_type": "markdown",
   "metadata": {},
   "source": [
    "## Chapter Assessment (Not Finished)"
   ]
  }
 ],
 "metadata": {
  "kernelspec": {
   "display_name": "Python 3",
   "language": "python",
   "name": "python3"
  },
  "language_info": {
   "codemirror_mode": {
    "name": "ipython",
    "version": 3
   },
   "file_extension": ".py",
   "mimetype": "text/x-python",
   "name": "python",
   "nbconvert_exporter": "python",
   "pygments_lexer": "ipython3",
   "version": "3.7.3"
  }
 },
 "nbformat": 4,
 "nbformat_minor": 2
}
