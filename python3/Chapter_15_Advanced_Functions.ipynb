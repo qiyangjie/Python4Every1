{
 "cells": [
  {
   "cell_type": "markdown",
   "metadata": {},
   "source": [
    "# Chapter 15\n",
    "\n",
    "## 1. Optional_Parameters"
   ]
  },
  {
   "cell_type": "code",
   "execution_count": 1,
   "metadata": {},
   "outputs": [
    {
     "name": "stdout",
     "output_type": "stream",
     "text": [
      "100\n",
      "100\n",
      "64\n"
     ]
    }
   ],
   "source": [
    "print(int(\"100\"))\n",
    "print(int(\"100\", 10))   # same thing, 10 is the default value for the base\n",
    "print(int(\"100\", 8))     # now the base is 8, so the result is 1*64 = 64"
   ]
  },
  {
   "cell_type": "code",
   "execution_count": 3,
   "metadata": {},
   "outputs": [
    {
     "name": "stdout",
     "output_type": "stream",
     "text": [
      "x, y, z, are: 2, 3, 7\n",
      "x, y, z, are: 2, 5, 7\n",
      "x, y, z, are: 2, 5, 8\n"
     ]
    }
   ],
   "source": [
    "initial = 7\n",
    "def f(x, y =3, z=initial):\n",
    "    print(\"x, y, z, are: \" + str(x) + \", \" + str(y) + \", \" + str(z))\n",
    "    \n",
    "f(2)\n",
    "f(2, 5)\n",
    "f(2, 5, 8)"
   ]
  },
  {
   "cell_type": "markdown",
   "metadata": {},
   "source": [
    " The default value is determined at the time that the function is defined, not at the time that it is invoked."
   ]
  },
  {
   "cell_type": "code",
   "execution_count": 4,
   "metadata": {},
   "outputs": [
    {
     "name": "stdout",
     "output_type": "stream",
     "text": [
      "x, y, z, are: 2, 3, 7\n"
     ]
    }
   ],
   "source": [
    "initial = 7\n",
    "def f(x, y =3, z=initial):\n",
    "    print(\"x, y, z, are: \" + str(x) + \", \" + str(y) + \", \" + str(z))\n",
    "\n",
    "initial = 10\n",
    "f(2)"
   ]
  },
  {
   "cell_type": "markdown",
   "metadata": {},
   "source": [
    "The second tricky thing is that if the default value is set to a mutable object, such as a list or a dictionary, that object will be __shared in all invocations of the function__.\n",
    "\n",
    "When the default value is used, the same list is shared. But on lines 8 and 9 two different copies of the list [“Hello”] are provided, so the 4 that is appended is not present in the list that is printed on line 9."
   ]
  },
  {
   "cell_type": "code",
   "execution_count": 5,
   "metadata": {},
   "outputs": [
    {
     "name": "stdout",
     "output_type": "stream",
     "text": [
      "[1]\n",
      "[1, 2]\n",
      "[1, 2, 3]\n",
      "['Hello', 4]\n",
      "['Hello', 5]\n"
     ]
    }
   ],
   "source": [
    "def f(a, L=[]):\n",
    "    L.append(a)\n",
    "    return L\n",
    "\n",
    "print(f(1))\n",
    "print(f(2))\n",
    "print(f(3))\n",
    "print(f(4, [\"Hello\"]))\n",
    "print(f(5, [\"Hello\"]))\n"
   ]
  },
  {
   "cell_type": "markdown",
   "metadata": {},
   "source": [
    "## 2. Keyword Parameters\n",
    "\n",
    "https://docs.python.org/3/tutorial/controlflow.html#keyword-arguments"
   ]
  },
  {
   "cell_type": "code",
   "execution_count": 7,
   "metadata": {},
   "outputs": [
    {
     "name": "stdout",
     "output_type": "stream",
     "text": [
      "-- This parrot wouldn'tvoom\n",
      "if you put1000volts through it.\n",
      "-- Lovely plumage, theNorwegian Blue\n",
      "-- It's a stiff!\n",
      "-- This parrot wouldn'tvoom\n",
      "if you put1000volts through it.\n",
      "-- Lovely plumage, theNorwegian Blue\n",
      "-- It's a stiff!\n",
      "-- This parrot wouldn'tVOOOOOM\n",
      "if you put1000000volts through it.\n",
      "-- Lovely plumage, theNorwegian Blue\n",
      "-- It's a stiff!\n",
      "-- This parrot wouldn'tVOOOOOM\n",
      "if you put1000000volts through it.\n",
      "-- Lovely plumage, theNorwegian Blue\n",
      "-- It's a stiff!\n",
      "-- This parrot wouldn'tjump\n",
      "if you puta millionvolts through it.\n",
      "-- Lovely plumage, theNorwegian Blue\n",
      "-- It's bereft of life!\n",
      "-- This parrot wouldn'tvoom\n",
      "if you puta thousandvolts through it.\n",
      "-- Lovely plumage, theNorwegian Blue\n",
      "-- It's pushing up the daisies!\n"
     ]
    }
   ],
   "source": [
    "def parrot(voltage, state='a stiff', action='voom', type='Norwegian Blue'):\n",
    "    print(\"-- This parrot wouldn't\" + action,)\n",
    "    print(\"if you put\" + str(voltage) + \"volts through it.\")\n",
    "    print(\"-- Lovely plumage, the\" +  type)\n",
    "    print(\"-- It's \" + state + \"!\")\n",
    "\n",
    "parrot(1000)                                          # 1 positional argument\n",
    "parrot(voltage=1000)                                  # 1 keyword argument\n",
    "parrot(voltage=1000000, action='VOOOOOM')             # 2 keyword arguments\n",
    "parrot(action='VOOOOOM', voltage=1000000)             # 2 keyword arguments\n",
    "parrot('a million', 'bereft of life', 'jump')         # 3 positional arguments\n",
    "parrot('a thousand', state='pushing up the daisies')  # 1 positional, 1 keyword"
   ]
  },
  {
   "cell_type": "markdown",
   "metadata": {},
   "source": [
    "## 2.1 Keyword Parameters with .format"
   ]
  },
  {
   "cell_type": "code",
   "execution_count": 8,
   "metadata": {},
   "outputs": [
    {
     "name": "stdout",
     "output_type": "stream",
     "text": [
      "The scores Jack got were: 67,89,91.\n",
      "The scores Emily got were: 72,95,42.\n",
      "The scores Taylor got were: 83,92,86.\n"
     ]
    }
   ],
   "source": [
    "names_scores = [(\"Jack\",[67,89,91]),(\"Emily\",[72,95,42]),(\"Taylor\",[83,92,86])]\n",
    "for name, scores in names_scores:\n",
    "    print(\"The scores {nm} got were: {s1},{s2},{s3}.\".format(nm=name,s1=scores[0],s2=scores[1],s3=scores[2]))\n"
   ]
  },
  {
   "cell_type": "code",
   "execution_count": 9,
   "metadata": {},
   "outputs": [
    {
     "name": "stdout",
     "output_type": "stream",
     "text": [
      "'Jack!' she yelled. 'Jack! Jack, say hello!'\n",
      "'Jill!' she yelled. 'Jill! Jill, say hello!'\n",
      "'Mary!' she yelled. 'Mary! Mary, say hello!'\n",
      "'Jack!' she yelled. 'Jack! Jack, say hello!'\n",
      "'Jill!' she yelled. 'Jill! Jill, say hello!'\n",
      "'Mary!' she yelled. 'Mary! Mary, say hello!'\n"
     ]
    }
   ],
   "source": [
    "# this works\n",
    "names = [\"Jack\",\"Jill\",\"Mary\"]\n",
    "for n in names:\n",
    "    print(\"'{}!' she yelled. '{}! {}, {}!'\".format(n,n,n,\"say hello\"))\n",
    "\n",
    "# but this also works!\n",
    "names = [\"Jack\",\"Jill\",\"Mary\"]\n",
    "for n in names:\n",
    "    print(\"'{0}!' she yelled. '{0}! {0}, {1}!'\".format(n,\"say hello\"))"
   ]
  },
  {
   "cell_type": "markdown",
   "metadata": {},
   "source": [
    "## 3. Anonymous functions with lambda expressions\n",
    "\n",
    "```python\n",
    "def func(args):\n",
    "    return ret_val\n",
    "```\n",
    "\n",
    "```python\n",
    "func = lambda args: ret_val\n",
    "```"
   ]
  },
  {
   "cell_type": "code",
   "execution_count": 15,
   "metadata": {},
   "outputs": [
    {
     "name": "stdout",
     "output_type": "stream",
     "text": [
      "<function last_char1 at 0x000002A59DFAABF8>\n"
     ]
    }
   ],
   "source": [
    "def last_char1(s):\n",
    "    return s[-1]\n",
    "\n",
    "print(last_char1)"
   ]
  },
  {
   "cell_type": "code",
   "execution_count": 16,
   "metadata": {},
   "outputs": [
    {
     "name": "stdout",
     "output_type": "stream",
     "text": [
      "<function <lambda> at 0x000002A59DFAA6A8>\n"
     ]
    }
   ],
   "source": [
    "last_char2 = (lambda s: s[-1])\n",
    "\n",
    "print(last_char2)"
   ]
  },
  {
   "cell_type": "markdown",
   "metadata": {},
   "source": [
    "## 4. Programming With Style\n",
    "\n",
    "## 5. Method Invocation"
   ]
  },
  {
   "cell_type": "markdown",
   "metadata": {},
   "source": [
    "## Practice\n",
    "\n",
    "1.3 Write a function called str_mult that takes in a required string parameter and an optional integer parameter. The default value for the integer parameter should be 3. The function should return the string multiplied by the integer parameter."
   ]
  },
  {
   "cell_type": "code",
   "execution_count": 6,
   "metadata": {},
   "outputs": [],
   "source": [
    "def str_mult(myStr, num = 3):\n",
    "    return myStr*num"
   ]
  },
  {
   "cell_type": "markdown",
   "metadata": {},
   "source": [
    "2.5 Define a function called multiply. It should have one required parameter, a string. It should also have one optional parameter, an integer, named mult_int, with a default value of 10. The function should return the string multiplied by the integer. (i.e.: Given inputs “Hello”, mult_int=3, the function should return “HelloHelloHello”)"
   ]
  },
  {
   "cell_type": "code",
   "execution_count": 10,
   "metadata": {},
   "outputs": [],
   "source": [
    "def multiply(myStr,mult_int=10):\n",
    "    return myStr * mult_int"
   ]
  },
  {
   "cell_type": "markdown",
   "metadata": {},
   "source": [
    "2.6 Currently the function is supposed to take 1 required parameter, and 2 optional parameters, however the code doesn’t work. Fix the code so that it passes the test. This should only require changing one line of code."
   ]
  },
  {
   "cell_type": "code",
   "execution_count": 11,
   "metadata": {},
   "outputs": [
    {
     "ename": "SyntaxError",
     "evalue": "non-default argument follows default argument (<ipython-input-11-27576ca7a750>, line 1)",
     "output_type": "error",
     "traceback": [
      "\u001b[1;36m  File \u001b[1;32m\"<ipython-input-11-27576ca7a750>\"\u001b[1;36m, line \u001b[1;32m1\u001b[0m\n\u001b[1;33m    def waste(var = \"Water\", mar, marble = \"type\"):\u001b[0m\n\u001b[1;37m             ^\u001b[0m\n\u001b[1;31mSyntaxError\u001b[0m\u001b[1;31m:\u001b[0m non-default argument follows default argument\n"
     ]
    }
   ],
   "source": [
    "def waste(var = \"Water\", mar, marble = \"type\"):\n",
    "    final_string = var + \" \" + marble + \" \" + mar\n",
    "    return final_string"
   ]
  },
  {
   "cell_type": "code",
   "execution_count": 12,
   "metadata": {},
   "outputs": [],
   "source": [
    "def waste(mar, var = \"Water\", marble = \"type\"):\n",
    "    final_string = var + \" \" + marble + \" \" + mar\n",
    "    return final_string"
   ]
  },
  {
   "cell_type": "markdown",
   "metadata": {},
   "source": [
    "## Exercises\n",
    "\n",
    "1. Fill in the parameter list for g so that the invocations of g yield the return values specified"
   ]
  },
  {
   "cell_type": "code",
   "execution_count": 18,
   "metadata": {},
   "outputs": [
    {
     "name": "stdout",
     "output_type": "stream",
     "text": [
      "10\n",
      "8\n",
      "9\n"
     ]
    }
   ],
   "source": [
    "def g(x, y=4, z=0):\n",
    "    return 2*x + y + z\n",
    "print(g(3))       # should output 10\n",
    "print(g(3, 2))    # should output 8\n",
    "print(g(3, 2, 1)) #should output 9"
   ]
  },
  {
   "cell_type": "markdown",
   "metadata": {},
   "source": [
    "2. Define a function called nums that has three parameters. The first parameter, an integer, should be required. A second parameter named mult_int should be optional with a default value of 5. The final parameter, switch, should also be optional with a default value of False. The function should multiply the two integers together, and if switch is True, should change the sign of the product before returning it."
   ]
  },
  {
   "cell_type": "code",
   "execution_count": 19,
   "metadata": {},
   "outputs": [],
   "source": [
    "def nums(x, mult_int = 5, switch = False):\n",
    "    tmp = x * mult_int\n",
    "    if switch:\n",
    "        tmp = -tmp\n",
    "    return tmp"
   ]
  },
  {
   "cell_type": "markdown",
   "metadata": {},
   "source": [
    "3. Write a function called together that takes three parameters, the first is a required parameter that is a number (integer or float), the second is a required parameter that is a string, and the third is an optional parameter whose default is ” “. What is returned is the first parameter, concatenated with the second, using the third."
   ]
  },
  {
   "cell_type": "code",
   "execution_count": 22,
   "metadata": {},
   "outputs": [],
   "source": [
    "def together(x, y, z =\" \"):\n",
    "    return str(x) + z + y"
   ]
  },
  {
   "cell_type": "markdown",
   "metadata": {},
   "source": [
    "## Chapter Assessment\n",
    "\n",
    "1. Create a function called mult that has two parameters, the first is required and should be an integer, the second is an optional parameter that can either be a number or a string but whose default is 6. The function should return the first parameter multiplied by the second."
   ]
  },
  {
   "cell_type": "code",
   "execution_count": 24,
   "metadata": {},
   "outputs": [],
   "source": [
    "def mult(x, y = 6):\n",
    "    return x*y"
   ]
  },
  {
   "cell_type": "markdown",
   "metadata": {},
   "source": [
    "2. The following function, greeting, does not work. Please fix the code so that it runs without error. This only requires one change in the definition of the function."
   ]
  },
  {
   "cell_type": "code",
   "execution_count": 25,
   "metadata": {},
   "outputs": [
    {
     "ename": "SyntaxError",
     "evalue": "non-default argument follows default argument (<ipython-input-25-e13142613720>, line 1)",
     "output_type": "error",
     "traceback": [
      "\u001b[1;36m  File \u001b[1;32m\"<ipython-input-25-e13142613720>\"\u001b[1;36m, line \u001b[1;32m1\u001b[0m\n\u001b[1;33m    def greeting(greeting=\"Hello \", name, excl=\"!\"):\u001b[0m\n\u001b[1;37m                ^\u001b[0m\n\u001b[1;31mSyntaxError\u001b[0m\u001b[1;31m:\u001b[0m non-default argument follows default argument\n"
     ]
    }
   ],
   "source": [
    "def greeting(greeting=\"Hello \", name, excl=\"!\"):\n",
    "    return greeting + name + excl\n",
    "\n",
    "print(greeting(\"Bob\"))\n",
    "print(greeting(\"\"))\n",
    "print(greeting(\"Bob\", excl=\"!!!\"))"
   ]
  },
  {
   "cell_type": "code",
   "execution_count": 26,
   "metadata": {},
   "outputs": [
    {
     "name": "stdout",
     "output_type": "stream",
     "text": [
      "Hello Bob!\n",
      "Hello !\n",
      "Hello Bob!!!\n"
     ]
    }
   ],
   "source": [
    "def greeting(name, greeting=\"Hello \", excl=\"!\"):\n",
    "    return greeting + name + excl\n",
    "\n",
    "print(greeting(\"Bob\"))\n",
    "print(greeting(\"\"))\n",
    "print(greeting(\"Bob\", excl=\"!!!\"))"
   ]
  },
  {
   "cell_type": "markdown",
   "metadata": {},
   "source": [
    "3. Below is a function, sum, that does not work. Change the function definition so the code works. The function should still have a required parameter, intx, and an optional parameter, intz with a defualt value of 5."
   ]
  },
  {
   "cell_type": "code",
   "execution_count": 27,
   "metadata": {},
   "outputs": [
    {
     "ename": "SyntaxError",
     "evalue": "non-default argument follows default argument (<ipython-input-27-a1e1dddde458>, line 1)",
     "output_type": "error",
     "traceback": [
      "\u001b[1;36m  File \u001b[1;32m\"<ipython-input-27-a1e1dddde458>\"\u001b[1;36m, line \u001b[1;32m1\u001b[0m\n\u001b[1;33m    def sum(intz=5, intx):\u001b[0m\n\u001b[1;37m           ^\u001b[0m\n\u001b[1;31mSyntaxError\u001b[0m\u001b[1;31m:\u001b[0m non-default argument follows default argument\n"
     ]
    }
   ],
   "source": [
    "def sum(intz=5, intx):\n",
    "    return intz + intx"
   ]
  },
  {
   "cell_type": "code",
   "execution_count": 28,
   "metadata": {},
   "outputs": [],
   "source": [
    "def sum(intx, intz=5):\n",
    "    return intz + intx"
   ]
  },
  {
   "cell_type": "markdown",
   "metadata": {},
   "source": [
    "4. Write a function, test, that takes in three parameters: a required integer, an optional boolean whose default value is True, and an optional dictionary, called dict1, whose default value is {2:3, 4:5, 6:8}. If the boolean parameter is True, the function should test to see if the integer is a key in the dictionary. The value of that key should then be returned. If the boolean parameter is False, return the boolean value “False”."
   ]
  },
  {
   "cell_type": "code",
   "execution_count": 32,
   "metadata": {},
   "outputs": [],
   "source": [
    "def test(x, y = True, dict1={2:3, 4:5, 6:8}):\n",
    "    if y:\n",
    "        if x in dict1.keys():\n",
    "            return dict1[x]\n",
    "    else:\n",
    "        return False"
   ]
  },
  {
   "cell_type": "markdown",
   "metadata": {},
   "source": [
    "5. Write a function called `checkingIfIn` that takes three parameters. The first is a required parameter, which should be a string. The second is an optional parameter called direction with a default value of True. The third is an optional parameter called d that has a default value of {'apple': 2, 'pear': 1, 'fruit': 19, 'orange': 5, 'banana': 3, 'grapes': 2, 'watermelon': 7}. Write the function checkingIfIn so that when the second parameter is True, it checks to see if the first parameter is a key in the third parameter; if it is, return True, otherwise return False.\n",
    "\n",
    "    But if the second paramter is False, then the function should check to see if the first parameter is not a key of the third. If it’s not, the function should return True in this case, and if it is, it should return False."
   ]
  },
  {
   "cell_type": "code",
   "execution_count": 34,
   "metadata": {},
   "outputs": [],
   "source": [
    "def checkingIfIn(a, b = True, d = {'apple':2, 'pear':1, 'fruit':19, 'orange':5, 'banana':3, 'grapes':2, 'watermelon':7}):\n",
    "    if b:\n",
    "        if a in d.keys():\n",
    "            return True\n",
    "        else:\n",
    "            return False\n",
    "    else:\n",
    "        if a in d.keys():\n",
    "            return False\n",
    "        else:\n",
    "            return True"
   ]
  },
  {
   "cell_type": "markdown",
   "metadata": {},
   "source": [
    "6. We have provided the function checkingIfIn such that if the first input parameter is in the third, dictionary, input parameter, then the function returns that value, and otherwise, it returns False. Follow the instructions in the active code window for specific variable assignmemts."
   ]
  },
  {
   "cell_type": "code",
   "execution_count": 35,
   "metadata": {},
   "outputs": [],
   "source": [
    "def checkingIfIn(a, direction = True, d = {'apple': 2, 'pear': 1, 'fruit': 19, 'orange': 5, 'banana': 3, 'grapes': 2, 'watermelon': 7}):\n",
    "    if direction == True:\n",
    "        if a in d:\n",
    "            return d[a]\n",
    "        else:\n",
    "            return False\n",
    "    else:\n",
    "        if a not in d:\n",
    "            return True\n",
    "        else:\n",
    "            return d[a]"
   ]
  },
  {
   "cell_type": "code",
   "execution_count": 37,
   "metadata": {},
   "outputs": [
    {
     "name": "stdout",
     "output_type": "stream",
     "text": [
      "False\n"
     ]
    }
   ],
   "source": [
    "# Call the function so that it returns False and assign that function call to the variable c_false\n",
    "c_false = checkingIfIn(\"an\")\n",
    "print(c_false)"
   ]
  },
  {
   "cell_type": "code",
   "execution_count": 38,
   "metadata": {},
   "outputs": [
    {
     "name": "stdout",
     "output_type": "stream",
     "text": [
      "True\n"
     ]
    }
   ],
   "source": [
    "# Call the fucntion so that it returns True and assign it to the variable c_true\n",
    "c_true = checkingIfIn(\"an\",False)\n",
    "print(c_true)"
   ]
  },
  {
   "cell_type": "code",
   "execution_count": 41,
   "metadata": {},
   "outputs": [
    {
     "name": "stdout",
     "output_type": "stream",
     "text": [
      "19\n"
     ]
    }
   ],
   "source": [
    "# Call the function so that the value of fruit is assigned to the variable fruit_ans\n",
    "fruit_ans = checkingIfIn(\"fruit\")\n",
    "print(fruit_ans)"
   ]
  },
  {
   "cell_type": "code",
   "execution_count": 40,
   "metadata": {},
   "outputs": [
    {
     "name": "stdout",
     "output_type": "stream",
     "text": [
      "8\n"
     ]
    }
   ],
   "source": [
    "# Call the function using the first and third parameter so that the value 8 is assigned to the variable param_check\n",
    "param_check = checkingIfIn(\"an\", d = {\"an\":8})\n",
    "print(param_check)"
   ]
  }
 ],
 "metadata": {
  "kernelspec": {
   "display_name": "Python 3",
   "language": "python",
   "name": "python3"
  },
  "language_info": {
   "codemirror_mode": {
    "name": "ipython",
    "version": 3
   },
   "file_extension": ".py",
   "mimetype": "text/x-python",
   "name": "python",
   "nbconvert_exporter": "python",
   "pygments_lexer": "ipython3",
   "version": "3.7.3"
  }
 },
 "nbformat": 4,
 "nbformat_minor": 2
}
