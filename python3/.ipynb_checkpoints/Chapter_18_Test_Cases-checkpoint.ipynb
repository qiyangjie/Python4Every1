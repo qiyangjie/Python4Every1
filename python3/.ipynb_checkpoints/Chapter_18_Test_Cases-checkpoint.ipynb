{
 "cells": [
  {
   "cell_type": "markdown",
   "metadata": {},
   "source": [
    "## Test Case\n",
    "\n",
    "Check __unit tests__, which is in general python.\n",
    "\n",
    "A useful function will do some combination of three things, given its input parameters:\n",
    "\n",
    "- Return a value. For these, you will write return value tests.\n",
    "- Modify the contents of some __mutable object__, like a list or dictionary. For these you will write side effect tests.\n",
    "- Print something or write something to a file. Tests of whether a function generates the right printed output are beyond the cope of this testing framework; you won’t write these tests."
   ]
  }
 ],
 "metadata": {
  "kernelspec": {
   "display_name": "Python 3",
   "language": "python",
   "name": "python3"
  },
  "language_info": {
   "codemirror_mode": {
    "name": "ipython",
    "version": 3
   },
   "file_extension": ".py",
   "mimetype": "text/x-python",
   "name": "python",
   "nbconvert_exporter": "python",
   "pygments_lexer": "ipython3",
   "version": "3.7.3"
  }
 },
 "nbformat": 4,
 "nbformat_minor": 2
}
