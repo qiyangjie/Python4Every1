{
 "cells": [
  {
   "cell_type": "markdown",
   "metadata": {},
   "source": [
    "# Chapter_23\n",
    "\n",
    "## 1. Introduction\n",
    "\n",
    "All in this chapter is a higher level use of LIST.\n",
    "\n",
    "## 2. Map"
   ]
  },
  {
   "cell_type": "code",
   "execution_count": 2,
   "metadata": {},
   "outputs": [
    {
     "name": "stdout",
     "output_type": "stream",
     "text": [
      "[4, 10, 18]\n"
     ]
    }
   ],
   "source": [
    "things = [2, 5, 9]\n",
    "\n",
    "things_1 = []\n",
    "for thing in things:\n",
    "    things_1.append(thing*2)\n",
    "    \n",
    "print(things_1)"
   ]
  },
  {
   "cell_type": "code",
   "execution_count": 5,
   "metadata": {},
   "outputs": [
    {
     "name": "stdout",
     "output_type": "stream",
     "text": [
      "<map object at 0x000002D89A912160>\n",
      "[4, 10, 18]\n"
     ]
    }
   ],
   "source": [
    "things_2 = map(lambda x: x*2, things)\n",
    "print(things_2)\n",
    "print(list(things_2))"
   ]
  },
  {
   "cell_type": "markdown",
   "metadata": {},
   "source": [
    "## 3. Filter"
   ]
  },
  {
   "cell_type": "code",
   "execution_count": 12,
   "metadata": {},
   "outputs": [
    {
     "name": "stdout",
     "output_type": "stream",
     "text": [
      "[4, 6, 0]\n"
     ]
    }
   ],
   "source": [
    "nums = [3, 4, 6, 7, 0, 1]\n",
    "\n",
    "new_list = []\n",
    "for num in nums:\n",
    "    if num % 2 == 0:\n",
    "        new_list.append(num)\n",
    "        \n",
    "print(new_list)"
   ]
  },
  {
   "cell_type": "code",
   "execution_count": 17,
   "metadata": {},
   "outputs": [
    {
     "name": "stdout",
     "output_type": "stream",
     "text": [
      "<filter object at 0x000002D89A912BA8>\n",
      "[4, 6, 0]\n"
     ]
    }
   ],
   "source": [
    "new_seq = filter(lambda num: num % 2 == 0, nums)\n",
    "print(new_seq)\n",
    "print(list(new_seq))"
   ]
  },
  {
   "cell_type": "markdown",
   "metadata": {},
   "source": [
    "## 4. List Comprehensions\n",
    "\n",
    "```\n",
    "[<transformer_expression> for <loop_var> in <sequence> if <filtration_expression>]\n",
    "```"
   ]
  },
  {
   "cell_type": "code",
   "execution_count": 23,
   "metadata": {},
   "outputs": [
    {
     "name": "stdout",
     "output_type": "stream",
     "text": [
      "[4, 10, 18]\n",
      "[4]\n"
     ]
    }
   ],
   "source": [
    "things = [2, 5, 9]\n",
    "\n",
    "yourlist = [value * 2 for value in things]\n",
    "\n",
    "print(yourlist)\n",
    "\n",
    "print([x*2 for x in things if x % 2 == 0])"
   ]
  },
  {
   "cell_type": "markdown",
   "metadata": {},
   "source": [
    "## 5. Zip\n",
    "\n",
    "One more common pattern with lists, besides accumulation, is to step through a pair of lists (or several lists), doing something with all of the first items, then something with all of the second items, and so on. "
   ]
  },
  {
   "cell_type": "code",
   "execution_count": 30,
   "metadata": {},
   "outputs": [
    {
     "name": "stdout",
     "output_type": "stream",
     "text": [
      "[4, 6, 8]\n"
     ]
    }
   ],
   "source": [
    "L1 = [3, 4, 5]\n",
    "L2 = [1, 2, 3]\n",
    "L3 = []\n",
    "\n",
    "for i in range(len(L1)):\n",
    "    L3.append(L1[i] + L2[i])\n",
    "\n",
    "print(L3)"
   ]
  },
  {
   "cell_type": "code",
   "execution_count": 31,
   "metadata": {},
   "outputs": [
    {
     "name": "stdout",
     "output_type": "stream",
     "text": [
      "[(3, 1), (4, 2), (5, 3)]\n"
     ]
    }
   ],
   "source": [
    "L1 = [3, 4, 5]\n",
    "L2 = [1, 2, 3]\n",
    "L4 = list(zip(L1, L2))\n",
    "print(L4)"
   ]
  },
  {
   "cell_type": "code",
   "execution_count": 32,
   "metadata": {},
   "outputs": [
    {
     "name": "stdout",
     "output_type": "stream",
     "text": [
      "[4, 6, 8]\n"
     ]
    }
   ],
   "source": [
    "L1 = [3, 4, 5]\n",
    "L2 = [1, 2, 3]\n",
    "L3 = []\n",
    "L4 = list(zip(L1, L2))\n",
    "\n",
    "for (x1, x2) in L4:\n",
    "    L3.append(x1+x2)\n",
    "\n",
    "print(L3)"
   ]
  },
  {
   "cell_type": "markdown",
   "metadata": {},
   "source": [
    "## Practices\n",
    "\n",
    "2.1 Using map, create a list assigned to the variable `greeting_doubled` that doubles each element in the list `lst`."
   ]
  },
  {
   "cell_type": "code",
   "execution_count": 7,
   "metadata": {},
   "outputs": [
    {
     "name": "stdout",
     "output_type": "stream",
     "text": [
      "[['hi', 'bye', 'hi', 'bye'], 'hellohello', 'goodbyegoodbye', [9, 2, 9, 2], 8]\n"
     ]
    }
   ],
   "source": [
    "lst = [[\"hi\", \"bye\"], \"hello\", \"goodbye\", [9, 2], 4]\n",
    "\n",
    "greeting_doubled = list(map(lambda x: x*2,lst))\n",
    "print(greeting_doubled)"
   ]
  },
  {
   "cell_type": "markdown",
   "metadata": {},
   "source": [
    "2.2 Below, we have provided a list of strings called `abbrevs`. Use map to produce a new list called `abbrevs_upper` that contains all the same strings in upper case."
   ]
  },
  {
   "cell_type": "code",
   "execution_count": 16,
   "metadata": {},
   "outputs": [
    {
     "name": "stdout",
     "output_type": "stream",
     "text": [
      "['USA', 'ESP', 'CHN', 'JPN', 'MEX', 'CAN', 'RUS', 'RSA', 'JAM']\n"
     ]
    }
   ],
   "source": [
    "abbrevs = [\"usa\", \"esp\", \"chn\", \"jpn\", \"mex\", \"can\", \"rus\", \"rsa\", \"jam\"]\n",
    "\n",
    "abbrevs_upper = list(map(lambda x: x.upper(),abbrevs))\n",
    "print(abbrevs_upper)"
   ]
  },
  {
   "cell_type": "markdown",
   "metadata": {},
   "source": [
    "3.1 Write code to assign to the variable `filter_testing` all the elements in lst_check that have a w in them using filter."
   ]
  },
  {
   "cell_type": "code",
   "execution_count": 20,
   "metadata": {},
   "outputs": [
    {
     "name": "stdout",
     "output_type": "stream",
     "text": [
      "['watermelon', 'kiwi', 'strawberries']\n"
     ]
    }
   ],
   "source": [
    "lst_check = ['plums', 'watermelon', 'kiwi', 'strawberries', 'blueberries', 'peaches', 'apples', 'mangos', 'papaya']\n",
    "\n",
    "filter_testing = list(filter(lambda x: 'w' in x, lst_check))\n",
    "\n",
    "print(filter_testing)"
   ]
  },
  {
   "cell_type": "markdown",
   "metadata": {},
   "source": [
    "3.2 Using filter, filter `lst` so that it only contains words containing the letter “o”. Assign to variable `lst2`."
   ]
  },
  {
   "cell_type": "code",
   "execution_count": 21,
   "metadata": {},
   "outputs": [
    {
     "name": "stdout",
     "output_type": "stream",
     "text": [
      "['halloween', 'wagon', 'moon']\n"
     ]
    }
   ],
   "source": [
    "lst = [\"witch\", \"halloween\", \"pumpkin\", \"cat\", \"candy\", \"wagon\", \"moon\"]\n",
    "\n",
    "lst2 = list(filter(lambda x: 'o' in x, lst))\n",
    "\n",
    "print(lst2)"
   ]
  },
  {
   "cell_type": "markdown",
   "metadata": {},
   "source": [
    "4.2  The for loop below produces a list of numbers greater than 10. Below the given code, use list comprehension to accomplish the same thing. Assign it the the variable `lst2`."
   ]
  },
  {
   "cell_type": "code",
   "execution_count": 26,
   "metadata": {},
   "outputs": [
    {
     "name": "stdout",
     "output_type": "stream",
     "text": [
      "[12, 34, 21, 42]\n"
     ]
    }
   ],
   "source": [
    "L = [12, 34, 21, 4, 6, 9, 42]\n",
    "\n",
    "lst2 = [x for x in L if x>10 ]\n",
    "print(list2)"
   ]
  },
  {
   "cell_type": "code",
   "execution_count": 29,
   "metadata": {},
   "outputs": [
    {
     "name": "stdout",
     "output_type": "stream",
     "text": [
      "['Lauren', 'Ayo', 'Kathryn', 'Nick', 'Gladys', 'Adam']\n"
     ]
    }
   ],
   "source": [
    "tester = {'info': [{\"name\": \"Lauren\", 'class standing': 'Junior', 'major': \"Information Science\"},\\\n",
    "                   {'name': 'Ayo', 'class standing': \"Bachelor's\", 'major': 'Information Science'},\\\n",
    "                   {'name': 'Kathryn', 'class standing': 'Senior', 'major': 'Sociology'},\\\n",
    "                   {'name': 'Nick', 'class standing': 'Junior', 'major': 'Computer Science'},\\\n",
    "                   {'name': 'Gladys', 'class standing': 'Sophomore', 'major': 'History'},\\\n",
    "                   {'name': 'Adam', 'major': 'Violin Performance', 'class standing': 'Senior'}]}\n",
    "\n",
    "compri = [x['name'] for x in tester['info']]\n",
    "print(compri)"
   ]
  },
  {
   "cell_type": "markdown",
   "metadata": {},
   "source": [
    "5.1 Below we have provided two lists of numbers, `L1` and `L2`. Using zip and list comprehension, create a new list, `L3`, that sums the two numbers if the number from L1 is greater than 10 and the number from L2 is less than 5. This can be accomplished in one line of code."
   ]
  },
  {
   "cell_type": "code",
   "execution_count": 36,
   "metadata": {},
   "outputs": [
    {
     "name": "stdout",
     "output_type": "stream",
     "text": [
      "[18, 57, 103]\n"
     ]
    }
   ],
   "source": [
    "L1 = [1, 5, 2, 16, 32, 3, 54, 8, 100]\n",
    "L2 = [1, 3, 10, 2, 42, 2, 3, 4, 3]\n",
    "\n",
    "L3 = [x1+x2 for x1,x2 in zip(L1,L2) if x1>10 and x2<5]\n",
    "\n",
    "print(L3)"
   ]
  },
  {
   "cell_type": "markdown",
   "metadata": {},
   "source": [
    "##  Exercise\n",
    "\n",
    "1. Write equivalent code using map instead of the manual accumulation below and assign it to the variable test"
   ]
  },
  {
   "cell_type": "code",
   "execution_count": 1,
   "metadata": {},
   "outputs": [
    {
     "name": "stdout",
     "output_type": "stream",
     "text": [
      "[4, 6, -3, 8]\n"
     ]
    }
   ],
   "source": [
    "things = [3, 5, -4, 7]\n",
    "\n",
    "accum = []\n",
    "for thing in things:\n",
    "    accum.append(thing+1)\n",
    "print(accum)"
   ]
  },
  {
   "cell_type": "code",
   "execution_count": 4,
   "metadata": {},
   "outputs": [
    {
     "name": "stdout",
     "output_type": "stream",
     "text": [
      "[4, 6, -3, 8]\n"
     ]
    }
   ],
   "source": [
    "test = list(map(lambda x: x+1, things))\n",
    "print(test)"
   ]
  },
  {
   "cell_type": "markdown",
   "metadata": {},
   "source": [
    "2. Use manual accumulation to define the lengths function below."
   ]
  },
  {
   "cell_type": "code",
   "execution_count": 7,
   "metadata": {},
   "outputs": [],
   "source": [
    "def lengths(strings):\n",
    "    \"\"\"lengths takes a list of strings as input and returns a list of numbers that are the lengths\n",
    "    of strings in the input list. Use manual accumulation!\"\"\"\n",
    "    # fill in this function's definition to make the test pass.\n",
    "    \n",
    "    leng = []\n",
    "    for string in strings:\n",
    "        leng.append(len(string))\n",
    "        \n",
    "    return leng"
   ]
  },
  {
   "cell_type": "markdown",
   "metadata": {},
   "source": [
    "3. Now define lengths using map instead."
   ]
  },
  {
   "cell_type": "code",
   "execution_count": 8,
   "metadata": {},
   "outputs": [],
   "source": [
    "def lengths(strings):\n",
    "    \"\"\"lengths takes a list of strings as input and returns a list of numbers that are the lengths\n",
    "     of strings in the input list. Use map!\"\"\"\n",
    "     # fill in this function's definition to make the test pass.\n",
    "        \n",
    "    leng = map(lambda x: len(x),strings)\n",
    "    \n",
    "    return list(leng)"
   ]
  },
  {
   "cell_type": "markdown",
   "metadata": {},
   "source": [
    "4. Now define lengths using a list comprehension instead."
   ]
  },
  {
   "cell_type": "code",
   "execution_count": 9,
   "metadata": {},
   "outputs": [],
   "source": [
    "def lengths(strings):\n",
    "    \"\"\"lengths takes a list of strings as input and returns a list of numbers that are the lengths\n",
    "    of strings in the input list. Use a list comprehension!\"\"\"\n",
    "    # fill in this function's definition to make the test pass.\n",
    "    \n",
    "    return [len(x) for x in strings]"
   ]
  },
  {
   "cell_type": "markdown",
   "metadata": {},
   "source": [
    "5. Write a function called positives_Acc that receives list of numbers as the input (like [3, -1, 5, 7]) and returns a list of only the positive numbers, [3, 5, 7], via manual accumulation."
   ]
  },
  {
   "cell_type": "code",
   "execution_count": 10,
   "metadata": {},
   "outputs": [],
   "source": [
    "things = [3, 5, -4, 7]\n",
    "\n",
    "def positives_Acc(things):\n",
    "    \n",
    "    outList = []\n",
    "    for thing in things:\n",
    "        if thing > 0:\n",
    "            outList.append(thing)\n",
    "            \n",
    "    return outList"
   ]
  },
  {
   "cell_type": "markdown",
   "metadata": {},
   "source": [
    "6. Write a function called positives_Fil that receives list of things as the input and returns a list of only the positive things, [3, 5, 7], using the filter function."
   ]
  },
  {
   "cell_type": "code",
   "execution_count": 11,
   "metadata": {},
   "outputs": [],
   "source": [
    "things = [3, 5, -4, 7]\n",
    "\n",
    "def positives_Fil(things):\n",
    "    \n",
    "    return list(filter(lambda x : x>0, things))"
   ]
  },
  {
   "cell_type": "markdown",
   "metadata": {},
   "source": [
    "7. Write a function called positives_Li_Com that receives list of things as the input and returns a list of only the positive things, [3, 5, 7], using the list comprehension."
   ]
  },
  {
   "cell_type": "code",
   "execution_count": 12,
   "metadata": {},
   "outputs": [],
   "source": [
    "things = [3, 5, -4, 7]\n",
    "\n",
    "def positives_Li_Com(things):\n",
    "    \n",
    "    return [x for x in things if x>0]"
   ]
  },
  {
   "cell_type": "markdown",
   "metadata": {},
   "source": [
    "8. Define longwords using manual accumulation."
   ]
  },
  {
   "cell_type": "code",
   "execution_count": 13,
   "metadata": {},
   "outputs": [],
   "source": [
    "def longwords(strings):\n",
    "    \"\"\"Return a shorter list of strings containing only the strings with more than four characters. Use manual accumulation.\"\"\"\n",
    "    # write your code here\n",
    "    strLong = []\n",
    "    for string in strings:\n",
    "        if len(string) > 4:\n",
    "            strLong.append(string)\n",
    "            \n",
    "    return strLong"
   ]
  },
  {
   "cell_type": "markdown",
   "metadata": {},
   "source": [
    "9.Define longwords using filter"
   ]
  },
  {
   "cell_type": "code",
   "execution_count": 14,
   "metadata": {},
   "outputs": [],
   "source": [
    "def longwords_Fil(strings):\n",
    "    \"\"\"Return a shorter list of strings containing only the strings with more than four characters. Use the filter function.\"\"\"\n",
    "    # write your code here\n",
    "    return list(filter(lambda x:len(x)>4,strings))"
   ]
  },
  {
   "cell_type": "markdown",
   "metadata": {},
   "source": [
    "10. Define longwords using a list comprehension."
   ]
  },
  {
   "cell_type": "code",
   "execution_count": 16,
   "metadata": {},
   "outputs": [],
   "source": [
    "def longwords_Li_Comp(strings):\n",
    "    \"\"\"Return a shorter list of strings containing only the strings with more than four characters. Use a list comprehension.\"\"\"\n",
    "    # write your code here\n",
    "    return [x for x in strings if len(x)>4]"
   ]
  },
  {
   "cell_type": "markdown",
   "metadata": {},
   "source": [
    "11. Write a function called longlengths that returns the lengths of those strings that have at least 4 characters. Try it with a list comprehension."
   ]
  },
  {
   "cell_type": "code",
   "execution_count": 18,
   "metadata": {},
   "outputs": [],
   "source": [
    "def longlengths(strings):\n",
    "    return [len(x) for x in strings if len(x)>3]"
   ]
  },
  {
   "cell_type": "markdown",
   "metadata": {},
   "source": [
    "12. Write a function called longlengths that returns the lengths of those strings that have at least 4 characters. Try it using map and filter."
   ]
  },
  {
   "cell_type": "code",
   "execution_count": 19,
   "metadata": {},
   "outputs": [],
   "source": [
    "def longlengths(strings):\n",
    "    result = list(map(lambda x: len(x),strings))\n",
    "    result = list(filter(lambda x: x>4,result))\n",
    "    return result"
   ]
  },
  {
   "cell_type": "markdown",
   "metadata": {},
   "source": [
    "13. Write a function that takes a list of numbers and returns the sum of the squares of all the numbers. Try it using an accumulator pattern."
   ]
  },
  {
   "cell_type": "code",
   "execution_count": 20,
   "metadata": {},
   "outputs": [],
   "source": [
    "def sumSquares(L):\n",
    "    \n",
    "    sum = 0\n",
    "    for num in L:\n",
    "        sum = num**2 + sum\n",
    "    return sum"
   ]
  },
  {
   "cell_type": "markdown",
   "metadata": {},
   "source": [
    "14. Write a function that takes a list of numbers and returns the sum of the squares of all the numbers. Try it using map and sum."
   ]
  },
  {
   "cell_type": "code",
   "execution_count": 21,
   "metadata": {},
   "outputs": [],
   "source": [
    "def sumSquares(L):\n",
    "    \n",
    "    sqNum = list(map(lambda x: x**2,L))\n",
    "    \n",
    "    return sum(sqNum)"
   ]
  },
  {
   "cell_type": "markdown",
   "metadata": {},
   "source": [
    "15. Use the zip function to take the lists below and turn them into a list of tuples, with all the first items in the first tuple, etc."
   ]
  },
  {
   "cell_type": "code",
   "execution_count": 22,
   "metadata": {},
   "outputs": [],
   "source": [
    "L1 = [1, 2, 3, 4]\n",
    "L2 = [4, 3, 2, 3]\n",
    "L3 = [0, 5, 0, 5]\n",
    "\n",
    "tups = zip(L1,L2,L3)"
   ]
  },
  {
   "cell_type": "markdown",
   "metadata": {},
   "source": [
    "16. Use zip and map or a list comprehension to make a list consisting the maximum value for each position. For L1, L2, and L3, you would end up with a list [4, 5, 3, 5]."
   ]
  },
  {
   "cell_type": "code",
   "execution_count": 23,
   "metadata": {},
   "outputs": [],
   "source": [
    "maxs = [max(x) for x in zip(L1,L2,L3)]"
   ]
  },
  {
   "cell_type": "markdown",
   "metadata": {},
   "source": [
    "17. Write code to assign to the variable compri_sample all the values of the key name in the dictionary tester if they are Juniors. Do this using list comprehension."
   ]
  },
  {
   "cell_type": "code",
   "execution_count": 28,
   "metadata": {},
   "outputs": [],
   "source": [
    "tester = {'info': [{\"name\": \"Lauren\", 'class standing': 'Junior', 'major': \"Information Science\"},{'name': 'Ayo', 'class standing': \"Bachelor's\", 'major': 'Information Science'}, {'name': 'Kathryn', 'class standing': 'Senior', 'major': 'Sociology'}, {'name': 'Nick', 'class standing': 'Junior', 'major': 'Computer Science'}, {'name': 'Gladys', 'class standing': 'Sophomore', 'major': 'History'}, {'name': 'Adam', 'major': 'Violin Performance', 'class standing': 'Senior'}]}\n",
    "\n",
    "compri_sample=[x[\"name\"] for x in tester[\"info\"] if x[\"class standing\"] == 'Junior']"
   ]
  },
  {
   "cell_type": "markdown",
   "metadata": {},
   "source": [
    "18. Challenge The nested for loop given takes in a list of lists and combines the elements into a single list. Do the same thing using a list comprehension for the list L. Assign it to the variable result2."
   ]
  },
  {
   "cell_type": "code",
   "execution_count": 29,
   "metadata": {},
   "outputs": [],
   "source": [
    "def onelist(lst):\n",
    "    result = []\n",
    "    for each_list in lst:\n",
    "        for item in each_list:\n",
    "            result.append(item)\n",
    "    return result\n",
    "\n",
    "L = [[\"hi\", \"bye\"], [\"hello\", \"goodbye\"], [\"hola\", \"adios\", \"bonjour\", \"au revoir\"]]\n",
    "\n",
    "\n",
    "result2 = [x for y in L for x in y]"
   ]
  },
  {
   "cell_type": "markdown",
   "metadata": {},
   "source": [
    "19. Challenge: Write code to assign to the variable class_sched all the values of the key important classes. Do this using list comprehension."
   ]
  },
  {
   "cell_type": "code",
   "execution_count": 30,
   "metadata": {},
   "outputs": [],
   "source": [
    "tester = {'info': [\n",
    "         {\"name\": \"Lauren\", 'class standing': 'Junior', 'major': \"Information Science\", 'important classes': ['SI 106', 'ENGLISH 125', 'SI 110', 'AMCULT 202']},\n",
    "         {'name': 'Ayo', 'class standing': \"Bachelor's\", 'major': 'Information Science', \"important classes\": ['SI 106', 'SI 410', 'PSYCH 111']},\n",
    "         {'name': 'Kathryn', 'class standing': 'Senior', 'major': 'Sociology', 'important classes': ['WOMENSTD 220', 'SOC 101', 'ENS 384']},\n",
    "         {'name': 'Nick', 'class standing': 'Junior', 'major': 'Computer Science', \"important classes\": ['SOC 101', 'AMCULT 334', 'EECS 281']},\n",
    "         {'name': 'Gladys', 'class standing': 'Sophomore', 'major': 'History', 'important classes': ['ENGLISH 125', 'HIST 259', 'ENGLISH 130']},\n",
    "         {'name': 'Adam', 'major': 'Violin Performance', 'class standing': 'Senior', 'important classes': ['PIANO 101', 'STUDIO 300', 'THEORY 229', 'MUSC 356']}]}\n",
    "\n",
    "\n",
    "class_sched = [y for x in tester['info'] for y in x['important classes']]"
   ]
  },
  {
   "cell_type": "markdown",
   "metadata": {},
   "source": [
    "20. Challenge: Below, we have provided a list of lists that contain numbers. Using list comprehension, create a new list threes that contains all the numbers from the original list that are divisible by 3. This can be accomplished in one line of code."
   ]
  },
  {
   "cell_type": "code",
   "execution_count": 31,
   "metadata": {},
   "outputs": [],
   "source": [
    "nums = [[4, 3, 12, 10], [8, 7, 6], [5, 18, 15, 7, 11], [9, 4], [24, 20, 17], [3, 5]]\n",
    "\n",
    "threes = [y for x in nums for y in x if y%3==0]"
   ]
  },
  {
   "cell_type": "markdown",
   "metadata": {},
   "source": [
    "## Chapter Assessment"
   ]
  },
  {
   "cell_type": "markdown",
   "metadata": {},
   "source": [
    "1. Write code to assign to the variable map_testing all the elements in lst_check while adding the string “Fruit: ” to the beginning of each element using mapping."
   ]
  },
  {
   "cell_type": "code",
   "execution_count": 32,
   "metadata": {},
   "outputs": [],
   "source": [
    "lst_check = ['plums', 'watermelon', 'kiwi', 'strawberries', 'blueberries', 'peaches', 'apples', 'mangos', 'papaya']\n",
    "\n",
    "map_testing = list(map(lambda x: \"Fruit: \"+ x, lst_check))"
   ]
  },
  {
   "cell_type": "markdown",
   "metadata": {},
   "source": [
    "2. Below, we have provided a list of strings called countries. Use filter to produce a list called b_countries that only contains the strings from countries that begin with B."
   ]
  },
  {
   "cell_type": "code",
   "execution_count": 33,
   "metadata": {},
   "outputs": [],
   "source": [
    "countries = ['Canada', 'Mexico', 'Brazil', 'Chile', 'Denmark', 'Botswana', 'Spain', 'Britain', 'Portugal', 'Russia', 'Thailand', 'Bangladesh', 'Nigeria', 'Argentina', 'Belarus', 'Laos', 'Australia', 'Panama', 'Egypt', 'Morocco', 'Switzerland', 'Belgium']\n",
    "\n",
    "b_countries = list(filter(lambda x: x[0] is 'B',countries))"
   ]
  },
  {
   "cell_type": "markdown",
   "metadata": {},
   "source": [
    "3. Below, we have provided a list of tuples that contain the names of Game of Thrones characters. Using list comprehension, create a list of strings called first_names that contains only the first names of everyone in the original list."
   ]
  },
  {
   "cell_type": "code",
   "execution_count": 34,
   "metadata": {},
   "outputs": [],
   "source": [
    "people = [('Snow', 'Jon'), ('Lannister', 'Cersei'), ('Stark', 'Arya'), ('Stark', 'Robb'), ('Lannister', 'Jamie'), ('Targaryen', 'Daenerys'), ('Stark', 'Sansa'), ('Tyrell', 'Margaery'), ('Stark', 'Eddard'), ('Lannister', 'Tyrion'), ('Baratheon', 'Joffrey'), ('Bolton', 'Ramsey'), ('Baelish', 'Peter')]\n",
    "\n",
    "first_names =[x[1] for x in people]"
   ]
  },
  {
   "cell_type": "markdown",
   "metadata": {},
   "source": [
    "4. Use list comprehension to create a list called lst2 that doubles each element in the list, lst."
   ]
  },
  {
   "cell_type": "code",
   "execution_count": 35,
   "metadata": {},
   "outputs": [],
   "source": [
    "lst = [[\"hi\", \"bye\"], \"hello\", \"goodbye\", [9, 2], 4]\n",
    "\n",
    "lst2 = [x*2 for x in lst]"
   ]
  },
  {
   "cell_type": "markdown",
   "metadata": {},
   "source": [
    "5. Below, we have provided a list of tuples that contain students’ names and their final grades in PYTHON 101. Using list comprehension, create a new list passed that contains the names of students who passed the class (had a final grade of 70 or greater)."
   ]
  },
  {
   "cell_type": "code",
   "execution_count": 36,
   "metadata": {},
   "outputs": [],
   "source": [
    "students = [('Tommy', 95), ('Linda', 63), ('Carl', 70), ('Bob', 100), ('Raymond', 50), ('Sue', 75)]\n",
    "\n",
    "\n",
    "passed = [x[0] for x in students if x[1]>=70]"
   ]
  },
  {
   "cell_type": "markdown",
   "metadata": {},
   "source": [
    "6. Write code using zip and filter so that these lists (l1 and l2) are combined into one big list and assigned to the variable opposites if they are both longer than 3 characters each."
   ]
  },
  {
   "cell_type": "code",
   "execution_count": 37,
   "metadata": {},
   "outputs": [],
   "source": [
    "l1 = ['left', 'up', 'front']\n",
    "l2 = ['right', 'down', 'back']\n",
    "\n",
    "opposites = filter(lambda x:len(x[0])>3 and len(x[1])>3,zip(l1,l2))"
   ]
  },
  {
   "cell_type": "markdown",
   "metadata": {},
   "source": [
    "7. Below, we have provided a species list and a population list. Use zip to combine these lists into one list of tuples called pop_info. From this list, create a new list called endangered that contains the names of species whose populations are below 2500."
   ]
  },
  {
   "cell_type": "code",
   "execution_count": 38,
   "metadata": {},
   "outputs": [],
   "source": [
    "species = ['golden retriever', 'white tailed deer', 'black rhino', 'brown squirrel', 'field mouse', 'orangutan', 'sumatran elephant', 'rainbow trout', 'black bear', 'blue whale', 'water moccasin', 'giant panda', 'green turtle', 'blue jay', 'japanese beetle']\n",
    "\n",
    "population = [10000, 90000, 1000, 2000000, 500000, 500, 1200, 8000, 12000, 2300, 7500, 100, 1800, 9500, 125000]\n",
    "\n",
    "pop_info = zip(species,population)\n",
    "\n",
    "endangered = [x[0] for x in pop_info if x[1]<2500]"
   ]
  }
 ],
 "metadata": {
  "kernelspec": {
   "display_name": "Python 3",
   "language": "python",
   "name": "python3"
  },
  "language_info": {
   "codemirror_mode": {
    "name": "ipython",
    "version": 3
   },
   "file_extension": ".py",
   "mimetype": "text/x-python",
   "name": "python",
   "nbconvert_exporter": "python",
   "pygments_lexer": "ipython3",
   "version": "3.7.3"
  }
 },
 "nbformat": 4,
 "nbformat_minor": 2
}
