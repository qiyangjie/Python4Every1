{
 "cells": [
  {
   "cell_type": "markdown",
   "metadata": {},
   "source": [
    "### 1.1 Creativity and motivation\n",
    "\n",
    "### 1.2 Computer hardware architecture\n",
    "- Central Processing Unit (CPU)\n",
    "- Main Memory\n",
    "- Secondary Memory\n",
    "- Input and output Devices\n",
    "- Network Connections\n",
    "\n",
    "### 1.3 Understanding propgramming\n",
    "\n",
    "### 1.4 Words and sentences\n",
    "- reserved word (add a reserved word picture maybe)\n",
    "\n",
    "### 1.5 Conversing with Python\n",
    "- Introduce the Python interactive mode\n",
    "\n",
    "### 1.6 Terminology: interpreter and compiler\n",
    "- Interpreter: read and pareses the source code and interprets the instructions _on the fly_.\n",
    "- Compiler: handed the entire program in a file, and then runs a process to translate the high-level source code into machine language and then the compiler puts the resulting machine language into a file for later execution.\n",
    "\n",
    "### 1.7 Writing a program\n",
    "\n",
    "### 1.8 What is a programm?\n",
    "\n",
    "### 1.9 The building blocks of programms\n",
    "The low-level conceptual patterns of program\n",
    "- input\n",
    "- ouput\n",
    "- sequential execution\n",
    "- conditional execution\n",
    "- repeated execution\n",
    "- reuse\n",
    "\n",
    "### 1.10 What could possibly go wrong?\n",
    "- Syntax errors\n",
    "- Logic errors\n",
    "- Semantic errors\n",
    "\n",
    "### 1.11 The learning journey.\n",
    "\n",
    "### 1.12 Glossary\n",
    "\n",
    "- __parse__ To examine a program and analyze the syntactic structure.\n",
    "- __portability__ A property of a program that can run on more than one kind of computer.\n",
    "- __prompt__ When a program displays a message and pauses for the user to type some input to the program."
   ]
  },
  {
   "cell_type": "markdown",
   "metadata": {},
   "source": [
    "### Coresponding lecture\n",
    "- These part include python4everyone class 1, week 1 and week 3.\n",
    "- For week 2, it detailed explained how to install python."
   ]
  }
 ],
 "metadata": {
  "kernelspec": {
   "display_name": "Python 3",
   "language": "python",
   "name": "python3"
  },
  "language_info": {
   "codemirror_mode": {
    "name": "ipython",
    "version": 3
   },
   "file_extension": ".py",
   "mimetype": "text/x-python",
   "name": "python",
   "nbconvert_exporter": "python",
   "pygments_lexer": "ipython3",
   "version": "3.7.3"
  }
 },
 "nbformat": 4,
 "nbformat_minor": 2
}
