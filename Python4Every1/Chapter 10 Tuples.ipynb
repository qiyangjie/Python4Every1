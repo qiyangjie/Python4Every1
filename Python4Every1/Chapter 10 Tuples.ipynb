{
 "cells": [
  {
   "cell_type": "markdown",
   "metadata": {},
   "source": [
    "### 10.1 Tuples are immutable\n",
    "### 10.2 Comparing tuples\n",
    "Python starts by comparing the first element from each sequence. If they are equal, it goes on to the next elements, and so on.\n",
    "This lead to a patern called _DSU_ for __Decorate, Sort, Undecorate__."
   ]
  },
  {
   "cell_type": "code",
   "execution_count": 3,
   "metadata": {},
   "outputs": [
    {
     "name": "stdout",
     "output_type": "stream",
     "text": [
      "[(6, 'yonder'), (6, 'window'), (6, 'breaks'), (5, 'light'), (4, 'what'), (4, 'soft'), (3, 'but'), (2, 'in')]\n",
      "['yonder', 'window', 'breaks', 'light', 'what', 'soft', 'but', 'in']\n"
     ]
    }
   ],
   "source": [
    "txt = \"but soft what light in yonder window breaks\"\n",
    "words = txt.split()\n",
    "t = list()\n",
    "for word in words:\n",
    "    t.append((len(word),word))    \n",
    "t.sort(reverse=True)\n",
    "print(t)\n",
    "\n",
    "res = list()\n",
    "for length, word in t:\n",
    "    res.append(word)\n",
    "    \n",
    "print(res)"
   ]
  },
  {
   "cell_type": "markdown",
   "metadata": {},
   "source": [
    "### 10.3 Tuple assignment"
   ]
  },
  {
   "cell_type": "code",
   "execution_count": 5,
   "metadata": {},
   "outputs": [
    {
     "name": "stdout",
     "output_type": "stream",
     "text": [
      "['monty', 'python.org']\n",
      "monty\n",
      "python.org\n"
     ]
    }
   ],
   "source": [
    "addr = \"monty@python.org\"\n",
    "uname, domain = addr.split(\"@\")\n",
    "print(addr.split(\"@\"))\n",
    "print(uname)\n",
    "print(domain)"
   ]
  },
  {
   "cell_type": "markdown",
   "metadata": {},
   "source": [
    "### 10.4 Dictionaries and tuples\n",
    "### 10.5 Mutiple assignment with dictionaries\n",
    "### 10.6 The most common words"
   ]
  },
  {
   "cell_type": "code",
   "execution_count": 16,
   "metadata": {},
   "outputs": [
    {
     "name": "stdout",
     "output_type": "stream",
     "text": [
      "i 61\n",
      "and 42\n",
      "romeo 40\n",
      "to 34\n",
      "the 34\n",
      "thou 32\n",
      "juliet 32\n",
      "that 30\n",
      "my 29\n",
      "thee 24\n"
     ]
    }
   ],
   "source": [
    "import string\n",
    "fhand = open('files/romeo-full.txt')\n",
    "counts = dict()\n",
    "for line in fhand:\n",
    "    line = line.translate(str.maketrans(\"\",\"\",string.punctuation))\n",
    "    line = line.lower()\n",
    "    words= line.split()\n",
    "    for word in words:\n",
    "        counts[word]=counts.get(word,0)+1\n",
    "\n",
    "# sort by value\n",
    "lst = list()\n",
    "for key,val in list(counts.items()):\n",
    "    lst.append((val,key))\n",
    "    \n",
    "lst.sort(reverse=True)\n",
    "\n",
    "for val,key in lst[:10]:\n",
    "    print(key,val)"
   ]
  },
  {
   "cell_type": "markdown",
   "metadata": {},
   "source": [
    "### 10.7 Using tuples as keys in dictionaries\n",
    "### 10.8 Sequences: strings, lists, and tuples\n",
    "### 10.9 Debugging\n",
    "### 10.10 Glossary\n",
    "### 10.11 Exercises"
   ]
  },
  {
   "cell_type": "code",
   "execution_count": 29,
   "metadata": {},
   "outputs": [
    {
     "name": "stdout",
     "output_type": "stream",
     "text": [
      "Enter the file name: mbox.txt\n",
      "zqian@umich.edu 195\n"
     ]
    }
   ],
   "source": [
    "# exe 10.1\n",
    "fname = input(\"Enter the file name: \")\n",
    "try:\n",
    "    fhand = open(\"files/\"+fname)\n",
    "except:\n",
    "    print(\"file cannot be opened:\",fname)\n",
    "\n",
    "counts=dict()\n",
    "for line in fhand:\n",
    "    if not line.startswith(\"From \"):continue\n",
    "    words = line.split()\n",
    "    addr = words[1]\n",
    "    counts[addr] =counts.get(addr,0)+1\n",
    "# print(counts)\n",
    "\n",
    "lst = list()\n",
    "for addr,count in counts.items():\n",
    "    lst.append((count,addr))\n",
    "\n",
    "lst.sort(reverse=True)\n",
    "\n",
    "count1st,addr1st=lst[0]\n",
    "print(addr1st,count1st)"
   ]
  },
  {
   "cell_type": "code",
   "execution_count": 42,
   "metadata": {},
   "outputs": [
    {
     "name": "stdout",
     "output_type": "stream",
     "text": [
      "Enter the file name: mbox-short.txt\n",
      "04 3\n",
      "06 1\n",
      "07 1\n",
      "09 2\n",
      "10 3\n",
      "11 6\n",
      "14 1\n",
      "15 2\n",
      "16 4\n",
      "17 2\n",
      "18 1\n",
      "19 1\n"
     ]
    }
   ],
   "source": [
    "# exe 10.2\n",
    "fname = input(\"Enter the file name: \")\n",
    "try:\n",
    "    fhand = open(\"files/\"+fname)\n",
    "except:\n",
    "    print(\"file cannot be opened:\",fname)\n",
    "\n",
    "counts=dict()\n",
    "for line in fhand:\n",
    "    if not line.startswith(\"From \"):continue\n",
    "    words = line.split()\n",
    "#    print(words)\n",
    "    times = words[5].split(\":\")\n",
    "    hours = times[0]\n",
    "    counts[hours] =counts.get(hours,0)+1\n",
    "# print(counts)\n",
    "\n",
    "lst = list()\n",
    "for hour,count in counts.items():\n",
    "    lst.append((hour,count))\n",
    "\n",
    "lst.sort()\n",
    "\n",
    "for hor, num in lst:\n",
    "    print(hor,num)"
   ]
  },
  {
   "cell_type": "code",
   "execution_count": 56,
   "metadata": {},
   "outputs": [
    {
     "name": "stdout",
     "output_type": "stream",
     "text": [
      "a 475\n",
      "b 105\n",
      "c 104\n",
      "d 215\n",
      "e 860\n",
      "f 124\n",
      "g 125\n",
      "h 449\n",
      "i 464\n",
      "j 38\n",
      "k 54\n",
      "l 328\n",
      "m 212\n",
      "n 376\n",
      "o 605\n",
      "p 72\n",
      "q 3\n",
      "r 386\n",
      "s 378\n",
      "t 701\n",
      "u 210\n",
      "v 89\n",
      "w 179\n",
      "x 6\n",
      "y 142\n",
      "z 3\n"
     ]
    }
   ],
   "source": [
    "# exe 10.3\n",
    "import string\n",
    "fhand = open('files/romeo-full.txt')\n",
    "counts = dict()\n",
    "for line in fhand:\n",
    "    line = line.translate(str.maketrans(\"\",\"\",string.punctuation))\n",
    "    line = line.translate(str.maketrans(\"\",\"\",string.digits))\n",
    "    line = line.lower()\n",
    "    words= line.split()\n",
    "    for word in words:\n",
    "        letters = list(word[:])\n",
    "        # print(letters)\n",
    "        for letter in letters:\n",
    "            counts[letter]=counts.get(letter,0)+1\n",
    "\n",
    "# sort by value\n",
    "lst = list()\n",
    "for key,val in list(counts.items()):\n",
    "    lst.append((key,val))\n",
    "    \n",
    "lst.sort()\n",
    "\n",
    "for key,val in lst:\n",
    "    print(key,val)"
   ]
  }
 ],
 "metadata": {
  "kernelspec": {
   "display_name": "Python 3",
   "language": "python",
   "name": "python3"
  },
  "language_info": {
   "codemirror_mode": {
    "name": "ipython",
    "version": 3
   },
   "file_extension": ".py",
   "mimetype": "text/x-python",
   "name": "python",
   "nbconvert_exporter": "python",
   "pygments_lexer": "ipython3",
   "version": "3.7.3"
  }
 },
 "nbformat": 4,
 "nbformat_minor": 2
}
