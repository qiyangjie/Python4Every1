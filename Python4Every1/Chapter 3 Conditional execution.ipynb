{
 "cells": [
  {
   "cell_type": "markdown",
   "metadata": {},
   "source": [
    "### 3.1 Boolean expressions\n",
    "3.1.1 Class bool:\n",
    "- Ture: Any nonzero number is interpreted as \"Ture\" in bool \n",
    "- False\n",
    "\n",
    "3.1.2 Comparison operators\n",
    "- not equal        (!=)\n",
    "- greater than     (>)\n",
    "- less than        (<)\n",
    "- greater or equal (>=)\n",
    "- less or equal    (<=)\n",
    "- the same as      (is)\n",
    "- not the same as  (is not)\n",
    "\n",
    "### 3.2 Logical operators\n",
    "### 3.3 Conditional execution (if)\n",
    "3.3.1 Example"
   ]
  },
  {
   "cell_type": "code",
   "execution_count": 3,
   "metadata": {},
   "outputs": [
    {
     "name": "stdout",
     "output_type": "stream",
     "text": [
      "x is positive\n"
     ]
    }
   ],
   "source": [
    "x = 3\n",
    "if x>0:\n",
    "    print(\"x is positive\")"
   ]
  },
  {
   "cell_type": "markdown",
   "metadata": {},
   "source": [
    "3.3.2 Using pass as place holder"
   ]
  },
  {
   "cell_type": "code",
   "execution_count": 4,
   "metadata": {},
   "outputs": [],
   "source": [
    "if x<0:\n",
    "    pass"
   ]
  },
  {
   "cell_type": "markdown",
   "metadata": {},
   "source": [
    "### 3.4 Alternative execution (else)"
   ]
  },
  {
   "cell_type": "code",
   "execution_count": 5,
   "metadata": {},
   "outputs": [
    {
     "name": "stdout",
     "output_type": "stream",
     "text": [
      "x is positive\n"
     ]
    }
   ],
   "source": [
    "if x>0:\n",
    "    print(\"x is positive\")\n",
    "else :\n",
    "    print(\"x is negative\")"
   ]
  },
  {
   "cell_type": "markdown",
   "metadata": {},
   "source": [
    "### 3.5 Chained conditionals (elif)\n",
    "- Each condition is checked in order\n",
    "- Even if more than one condition is ture, only the first true branch executes."
   ]
  },
  {
   "cell_type": "code",
   "execution_count": 7,
   "metadata": {},
   "outputs": [
    {
     "name": "stdout",
     "output_type": "stream",
     "text": [
      "x is positive\n"
     ]
    }
   ],
   "source": [
    "if x>0:\n",
    "    print(\"x is positive\")\n",
    "elif x == 0:\n",
    "    print(\"x is zero\")\n",
    "else :\n",
    "    print(\"x is negative\")"
   ]
  },
  {
   "cell_type": "markdown",
   "metadata": {},
   "source": [
    "### 3.6 Nested conditionals\n",
    "- Nested conditionals become difficult to read very quickly. \n",
    "- In gereral it is a good idea to avoid them when you can."
   ]
  },
  {
   "cell_type": "code",
   "execution_count": 8,
   "metadata": {},
   "outputs": [
    {
     "name": "stdout",
     "output_type": "stream",
     "text": [
      "x is a positive single-digit number\n"
     ]
    }
   ],
   "source": [
    "if 0< x:\n",
    "    if x<10:\n",
    "        print(\"x is a positive single-digit number\")"
   ]
  },
  {
   "cell_type": "code",
   "execution_count": 9,
   "metadata": {},
   "outputs": [
    {
     "name": "stdout",
     "output_type": "stream",
     "text": [
      "x is a positive single-digit number\n"
     ]
    }
   ],
   "source": [
    "if 0 < x and x < 10 :\n",
    "    print(\"x is a positive single-digit number\")"
   ]
  },
  {
   "cell_type": "markdown",
   "metadata": {},
   "source": [
    "### 3.7 Catching exceptions using try and except"
   ]
  },
  {
   "cell_type": "code",
   "execution_count": 2,
   "metadata": {},
   "outputs": [
    {
     "name": "stdout",
     "output_type": "stream",
     "text": [
      "Enter Fahrenheit Temperature:o\n",
      "Please enter a number\n"
     ]
    }
   ],
   "source": [
    "# Convert a Fahrenheit temperature to a Celsius temperature\n",
    "inp = input('Enter Fahrenheit Temperature:')\n",
    "try:\n",
    "    fahr = float(inp)\n",
    "    cel = (fahr - 32)*5/9\n",
    "    print(cel)\n",
    "except:\n",
    "    print('Please enter a number')"
   ]
  },
  {
   "cell_type": "markdown",
   "metadata": {},
   "source": [
    "### 3.8 Short-circuit evaluation of logical expressions\n",
    "3.8.1 Short-circuiting the evaluation:\n",
    "- When the evaluation of a logical expression stops because the overall value is already known.\n",
    "- The below expression get no error as `(x/y)>2` is not evaluate"
   ]
  },
  {
   "cell_type": "code",
   "execution_count": 11,
   "metadata": {},
   "outputs": [
    {
     "data": {
      "text/plain": [
       "False"
      ]
     },
     "execution_count": 11,
     "metadata": {},
     "output_type": "execute_result"
    }
   ],
   "source": [
    "x = 1\n",
    "y = 0\n",
    "x >= 2 and (x/y)>2"
   ]
  },
  {
   "cell_type": "markdown",
   "metadata": {},
   "source": [
    "3.8.2 Guardian pattern:\n",
    "- Using the short-circuit method to make expression right"
   ]
  },
  {
   "cell_type": "code",
   "execution_count": 12,
   "metadata": {},
   "outputs": [],
   "source": [
    "x = 6\n",
    "y = 0"
   ]
  },
  {
   "cell_type": "code",
   "execution_count": 13,
   "metadata": {},
   "outputs": [
    {
     "ename": "ZeroDivisionError",
     "evalue": "division by zero",
     "output_type": "error",
     "traceback": [
      "\u001b[1;31m---------------------------------------------------------------------------\u001b[0m",
      "\u001b[1;31mZeroDivisionError\u001b[0m                         Traceback (most recent call last)",
      "\u001b[1;32m<ipython-input-13-76298fbc224b>\u001b[0m in \u001b[0;36m<module>\u001b[1;34m\u001b[0m\n\u001b[1;32m----> 1\u001b[1;33m \u001b[0mx\u001b[0m \u001b[1;33m>\u001b[0m \u001b[1;36m2\u001b[0m \u001b[1;32mand\u001b[0m \u001b[1;33m(\u001b[0m\u001b[0mx\u001b[0m\u001b[1;33m/\u001b[0m\u001b[0my\u001b[0m\u001b[1;33m)\u001b[0m \u001b[1;33m>\u001b[0m \u001b[1;36m2\u001b[0m\u001b[1;33m\u001b[0m\u001b[1;33m\u001b[0m\u001b[0m\n\u001b[0m",
      "\u001b[1;31mZeroDivisionError\u001b[0m: division by zero"
     ]
    }
   ],
   "source": [
    "x > 2 and (x/y) > 2"
   ]
  },
  {
   "cell_type": "code",
   "execution_count": 14,
   "metadata": {},
   "outputs": [
    {
     "data": {
      "text/plain": [
       "False"
      ]
     },
     "execution_count": 14,
     "metadata": {},
     "output_type": "execute_result"
    }
   ],
   "source": [
    "x > 2 and y != 0 and (x/y) > 2"
   ]
  },
  {
   "cell_type": "markdown",
   "metadata": {},
   "source": [
    "### 3.9 Debugging\n",
    "In general, error messages indicate where the problem was discovered, but the actual error might be earlier in the code, sometimes on a previous line.\n",
    "### 3.10 Glossary\n",
    "- __traceback__ A list of the functions that are executing, printed when an exception occurs."
   ]
  },
  {
   "cell_type": "code",
   "execution_count": 16,
   "metadata": {},
   "outputs": [
    {
     "name": "stdout",
     "output_type": "stream",
     "text": [
      "Enter Hours:45\n",
      "Enter Rate per hour:10\n",
      "Pay:475.0\n"
     ]
    }
   ],
   "source": [
    "# exe 3.1\n",
    "hrs = input(\"Enter Hours:\")\n",
    "h = float(hrs)\n",
    "\n",
    "rate_per_hour = input('Enter Rate per hour:')\n",
    "r = float(rate_per_hour)\n",
    "\n",
    "if h<=40:\n",
    "    Pay = h*r\n",
    "else:\n",
    "    Pay = r*40+(h-40)*r*1.5\n",
    "    \n",
    "print(\"Pay:\" + str(Pay) )"
   ]
  },
  {
   "cell_type": "code",
   "execution_count": 18,
   "metadata": {},
   "outputs": [
    {
     "name": "stdout",
     "output_type": "stream",
     "text": [
      "Enter Hours:20\n",
      "Enter Rate per hour:nine\n",
      "Error, please enter numeric input\n"
     ]
    }
   ],
   "source": [
    "# exe 3.2\n",
    "hrs = input(\"Enter Hours:\")\n",
    "rate_per_hour = input('Enter Rate per hour:')\n",
    "try:\n",
    "    h = float(hrs)\n",
    "    r = float(rate_per_hour)\n",
    "    if h<=40:\n",
    "        Pay = h*r\n",
    "    else:\n",
    "        Pay = r*40+(h-40)*r*1.5\n",
    "\n",
    "    print(\"Pay:\" + str(Pay) )\n",
    "except:\n",
    "    print(\"Error, please enter numeric input\")"
   ]
  },
  {
   "cell_type": "code",
   "execution_count": 19,
   "metadata": {},
   "outputs": [
    {
     "name": "stdout",
     "output_type": "stream",
     "text": [
      "Enter Score: 0.95\n",
      "A\n"
     ]
    }
   ],
   "source": [
    "# exe 3.3\n",
    "score = input(\"Enter Score: \")\n",
    "s=float(score)\n",
    "\n",
    "if s>1:\n",
    "    print('Err: input out of range')\n",
    "elif s<0:\n",
    "    print('Err: input out of range')\n",
    "elif s>= 0.9:\n",
    "    print('A')\n",
    "elif s>=0.8:\n",
    "    print(\"B\")\n",
    "elif s>=0.7:\n",
    "    print(\"C\")\n",
    "elif s>=0.6:\n",
    "    print(\"D\")\n",
    "else:\n",
    "    print(\"F\")"
   ]
  }
 ],
 "metadata": {
  "kernelspec": {
   "display_name": "Python 3",
   "language": "python",
   "name": "python3"
  },
  "language_info": {
   "codemirror_mode": {
    "name": "ipython",
    "version": 3
   },
   "file_extension": ".py",
   "mimetype": "text/x-python",
   "name": "python",
   "nbconvert_exporter": "python",
   "pygments_lexer": "ipython3",
   "version": "3.7.3"
  }
 },
 "nbformat": 4,
 "nbformat_minor": 2
}
