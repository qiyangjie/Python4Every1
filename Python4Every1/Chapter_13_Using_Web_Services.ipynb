{
 "cells": [
  {
   "cell_type": "markdown",
   "metadata": {},
   "source": [
    "### 13.0 Exchange data across the web\n",
    "\n",
    "- XML (eXtensible Markup Language)\n",
    "- JSON (JavaScript Object Notation)\n",
    "\n",
    "### 13.1 XML\n",
    "XML looks very similar to HTML, but XML is more structured than HTML.\n",
    "### 13.2 Parsing XML\n",
    "### 13.3 Looping through nodes"
   ]
  },
  {
   "cell_type": "code",
   "execution_count": 1,
   "metadata": {},
   "outputs": [
    {
     "name": "stdout",
     "output_type": "stream",
     "text": [
      "Name: Chuck\n",
      "Attr: yes\n"
     ]
    }
   ],
   "source": [
    "import xml.etree.ElementTree as ET\n",
    "\n",
    "data = '''\n",
    "<person>\n",
    "  <name>Chuck</name>\n",
    "  <phone type=\"intl\">\n",
    "    +1 734 303 4456\n",
    "  </phone>\n",
    "  <email hide=\"yes\" />\n",
    "</person>'''\n",
    "\n",
    "tree = ET.fromstring(data)\n",
    "print('Name:', tree.find('name').text)\n",
    "print('Attr:', tree.find('email').get('hide'))"
   ]
  },
  {
   "cell_type": "code",
   "execution_count": 2,
   "metadata": {},
   "outputs": [
    {
     "name": "stdout",
     "output_type": "stream",
     "text": [
      "User count: 2\n",
      "Name Chuck\n",
      "Id 001\n",
      "Attribute 2\n",
      "Name Brent\n",
      "Id 009\n",
      "Attribute 7\n"
     ]
    }
   ],
   "source": [
    "import xml.etree.ElementTree as ET\n",
    "\n",
    "input = '''\n",
    "<stuff>\n",
    "  <users>\n",
    "    <user x=\"2\">\n",
    "      <id>001</id>\n",
    "      <name>Chuck</name>\n",
    "    </user>\n",
    "    <user x=\"7\">\n",
    "      <id>009</id>\n",
    "      <name>Brent</name>\n",
    "    </user>\n",
    "  </users>\n",
    "</stuff>'''\n",
    "\n",
    "stuff = ET.fromstring(input)\n",
    "lst = stuff.findall('users/user')\n",
    "print('User count:', len(lst))\n",
    "\n",
    "for item in lst:\n",
    "    print('Name', item.find('name').text)\n",
    "    print('Id', item.find('id').text)\n",
    "    print('Attribute', item.get('x'))"
   ]
  },
  {
   "cell_type": "markdown",
   "metadata": {},
   "source": [
    "### 13.4 JSON\n",
    "### 13.5 Parsing JSON"
   ]
  },
  {
   "cell_type": "code",
   "execution_count": 5,
   "metadata": {},
   "outputs": [
    {
     "name": "stdout",
     "output_type": "stream",
     "text": [
      "Name: Chuck\n",
      "Hide: yes\n"
     ]
    }
   ],
   "source": [
    "import json\n",
    "\n",
    "data = '''\n",
    "{\n",
    "  \"name\" : \"Chuck\",\n",
    "  \"phone\" : {\n",
    "    \"type\" : \"intl\",\n",
    "    \"number\" : \"+1 734 303 4456\"\n",
    "   },\n",
    "   \"email\" : {\n",
    "     \"hide\" : \"yes\"\n",
    "   }\n",
    "}'''\n",
    "\n",
    "info = json.loads(data)\n",
    "print('Name:', info[\"name\"])\n",
    "print('Hide:', info[\"email\"][\"hide\"])"
   ]
  },
  {
   "cell_type": "code",
   "execution_count": 6,
   "metadata": {},
   "outputs": [
    {
     "data": {
      "text/plain": [
       "dict"
      ]
     },
     "execution_count": 6,
     "metadata": {},
     "output_type": "execute_result"
    }
   ],
   "source": [
    "type(info)"
   ]
  },
  {
   "cell_type": "code",
   "execution_count": 7,
   "metadata": {},
   "outputs": [
    {
     "name": "stdout",
     "output_type": "stream",
     "text": [
      "User count: 2\n",
      "Name Chuck\n",
      "Id 001\n",
      "Attribute 2\n",
      "Name Brent\n",
      "Id 009\n",
      "Attribute 7\n"
     ]
    }
   ],
   "source": [
    "import json\n",
    "\n",
    "data = '''\n",
    "[\n",
    "  { \"id\" : \"001\",\n",
    "    \"x\" : \"2\",\n",
    "    \"name\" : \"Chuck\"\n",
    "  } ,\n",
    "  { \"id\" : \"009\",\n",
    "    \"x\" : \"7\",\n",
    "    \"name\" : \"Brent\"\n",
    "  }\n",
    "]'''\n",
    "\n",
    "info = json.loads(data)\n",
    "print('User count:', len(info))\n",
    "\n",
    "for item in info:\n",
    "    print('Name', item['name'])\n",
    "    print('Id', item['id'])\n",
    "    print('Attribute', item['x'])"
   ]
  },
  {
   "cell_type": "code",
   "execution_count": 8,
   "metadata": {},
   "outputs": [
    {
     "data": {
      "text/plain": [
       "list"
      ]
     },
     "execution_count": 8,
     "metadata": {},
     "output_type": "execute_result"
    }
   ],
   "source": [
    "type(info)"
   ]
  },
  {
   "cell_type": "markdown",
   "metadata": {},
   "source": [
    "### 13.6 Application Programming Interfaces (API)\n",
    "\n",
    "- API is the general name for the application-to-application contracts.\n",
    "- Service-Oriented Architecture (SOA) approach is one where our overall application makes use of the services of other applications.\n",
    "- A non-SOA approach is where the application is a single standalone application which contains all of the code necessary to implement the application.\n",
    "\n",
    "### 13.7 Google geocoding web services"
   ]
  },
  {
   "cell_type": "code",
   "execution_count": 1,
   "metadata": {},
   "outputs": [
    {
     "name": "stdout",
     "output_type": "stream",
     "text": [
      "Enter location: Hefei\n",
      "Retrieving http://py4e-data.dr-chuck.net/json?address=Hefei&key=42\n",
      "Retrieved 1521 characters\n",
      "{\n",
      "    \"results\": [\n",
      "        {\n",
      "            \"address_components\": [\n",
      "                {\n",
      "                    \"long_name\": \"Hefei\",\n",
      "                    \"short_name\": \"Hefei\",\n",
      "                    \"types\": [\n",
      "                        \"locality\",\n",
      "                        \"political\"\n",
      "                    ]\n",
      "                },\n",
      "                {\n",
      "                    \"long_name\": \"Anhui\",\n",
      "                    \"short_name\": \"Anhui\",\n",
      "                    \"types\": [\n",
      "                        \"administrative_area_level_1\",\n",
      "                        \"political\"\n",
      "                    ]\n",
      "                },\n",
      "                {\n",
      "                    \"long_name\": \"China\",\n",
      "                    \"short_name\": \"CN\",\n",
      "                    \"types\": [\n",
      "                        \"country\",\n",
      "                        \"political\"\n",
      "                    ]\n",
      "                }\n",
      "            ],\n",
      "            \"formatted_address\": \"Hefei, Anhui, China\",\n",
      "            \"geometry\": {\n",
      "                \"bounds\": {\n",
      "                    \"northeast\": {\n",
      "                        \"lat\": 32.5366423,\n",
      "                        \"lng\": 117.9660382\n",
      "                    },\n",
      "                    \"southwest\": {\n",
      "                        \"lat\": 30.95099,\n",
      "                        \"lng\": 116.6874749\n",
      "                    }\n",
      "                },\n",
      "                \"location\": {\n",
      "                    \"lat\": 31.820591,\n",
      "                    \"lng\": 117.227219\n",
      "                },\n",
      "                \"location_type\": \"APPROXIMATE\",\n",
      "                \"viewport\": {\n",
      "                    \"northeast\": {\n",
      "                        \"lat\": 31.9945999,\n",
      "                        \"lng\": 117.4541473\n",
      "                    },\n",
      "                    \"southwest\": {\n",
      "                        \"lat\": 31.7164494,\n",
      "                        \"lng\": 117.1183777\n",
      "                    }\n",
      "                }\n",
      "            },\n",
      "            \"place_id\": \"ChIJnc8H8g5kyzURmTLD8nMRFdw\",\n",
      "            \"types\": [\n",
      "                \"locality\",\n",
      "                \"political\"\n",
      "            ]\n",
      "        }\n",
      "    ],\n",
      "    \"status\": \"OK\"\n",
      "}\n",
      "lat 31.820591 lng 117.227219\n",
      "Hefei, Anhui, China\n",
      "Enter location: \n"
     ]
    }
   ],
   "source": [
    "import urllib.request, urllib.parse, urllib.error\n",
    "import json\n",
    "import ssl\n",
    "\n",
    "api_key = False\n",
    "# If you have a Google Places API key, enter it here\n",
    "# api_key = 'AIzaSy___IDByT70'\n",
    "# https://developers.google.com/maps/documentation/geocoding/intro\n",
    "\n",
    "if api_key is False:\n",
    "    api_key = 42\n",
    "    serviceurl = 'http://py4e-data.dr-chuck.net/json?'\n",
    "else :\n",
    "    serviceurl = 'https://maps.googleapis.com/maps/api/geocode/json?'\n",
    "\n",
    "# Ignore SSL certificate errors\n",
    "ctx = ssl.create_default_context()\n",
    "ctx.check_hostname = False\n",
    "ctx.verify_mode = ssl.CERT_NONE\n",
    "\n",
    "while True:\n",
    "    address = input('Enter location: ')\n",
    "    if len(address) < 1: break\n",
    "\n",
    "    parms = dict()\n",
    "    parms['address'] = address\n",
    "    if api_key is not False: parms['key'] = api_key\n",
    "    url = serviceurl + urllib.parse.urlencode(parms)\n",
    "\n",
    "    print('Retrieving', url)\n",
    "    uh = urllib.request.urlopen(url, context=ctx)\n",
    "    data = uh.read().decode()\n",
    "    print('Retrieved', len(data), 'characters')\n",
    "\n",
    "    try:\n",
    "        js = json.loads(data)\n",
    "    except:\n",
    "        js = None\n",
    "\n",
    "    if not js or 'status' not in js or js['status'] != 'OK':\n",
    "        print('==== Failure To Retrieve ====')\n",
    "        print(data)\n",
    "        continue\n",
    "\n",
    "    print(json.dumps(js, indent=4))\n",
    "\n",
    "    lat = js['results'][0]['geometry']['location']['lat']\n",
    "    lng = js['results'][0]['geometry']['location']['lng']\n",
    "    print('lat', lat, 'lng', lng)\n",
    "    location = js['results'][0]['formatted_address']\n",
    "    print(location)"
   ]
  },
  {
   "cell_type": "code",
   "execution_count": 2,
   "metadata": {},
   "outputs": [
    {
     "name": "stdout",
     "output_type": "stream",
     "text": [
      "Enter location: Dayton\n",
      "Retrieving http://py4e-data.dr-chuck.net/xml?address=Dayton&key=42\n",
      "Retrieved 1755 characters\n",
      "<?xml version=\"1.0\" encoding=\"UTF-8\"?>\n",
      "<GeocodeResponse>\n",
      " <status>OK</status>\n",
      " <result>\n",
      "  <type>locality</type>\n",
      "  <type>political</type>\n",
      "  <formatted_address>Dayton, OH, USA</formatted_address>\n",
      "  <address_component>\n",
      "   <long_name>Dayton</long_name>\n",
      "   <short_name>Dayton</short_name>\n",
      "   <type>locality</type>\n",
      "   <type>political</type>\n",
      "  </address_component>\n",
      "  <address_component>\n",
      "   <long_name>Jefferson Township</long_name>\n",
      "   <short_name>Jefferson Township</short_name>\n",
      "   <type>administrative_area_level_3</type>\n",
      "   <type>political</type>\n",
      "  </address_component>\n",
      "  <address_component>\n",
      "   <long_name>Montgomery County</long_name>\n",
      "   <short_name>Montgomery County</short_name>\n",
      "   <type>administrative_area_level_2</type>\n",
      "   <type>political</type>\n",
      "  </address_component>\n",
      "  <address_component>\n",
      "   <long_name>Ohio</long_name>\n",
      "   <short_name>OH</short_name>\n",
      "   <type>administrative_area_level_1</type>\n",
      "   <type>political</type>\n",
      "  </address_component>\n",
      "  <address_component>\n",
      "   <long_name>United States</long_name>\n",
      "   <short_name>US</short_name>\n",
      "   <type>country</type>\n",
      "   <type>political</type>\n",
      "  </address_component>\n",
      "  <geometry>\n",
      "   <location>\n",
      "    <lat>39.7589478</lat>\n",
      "    <lng>-84.1916069</lng>\n",
      "   </location>\n",
      "   <location_type>APPROXIMATE</location_type>\n",
      "   <viewport>\n",
      "    <southwest>\n",
      "     <lat>39.7018339</lat>\n",
      "     <lng>-84.3113769</lng>\n",
      "    </southwest>\n",
      "    <northeast>\n",
      "     <lat>39.9208229</lat>\n",
      "     <lng>-84.0929378</lng>\n",
      "    </northeast>\n",
      "   </viewport>\n",
      "   <bounds>\n",
      "    <southwest>\n",
      "     <lat>39.7018339</lat>\n",
      "     <lng>-84.3113769</lng>\n",
      "    </southwest>\n",
      "    <northeast>\n",
      "     <lat>39.9208229</lat>\n",
      "     <lng>-84.0929378</lng>\n",
      "    </northeast>\n",
      "   </bounds>\n",
      "  </geometry>\n",
      "  <place_id>ChIJAxTdrtWAQIgR5EwO8pLjQKY</place_id>\n",
      " </result>\n",
      "</GeocodeResponse>\n",
      "\n",
      "lat 39.7589478 lng -84.1916069\n",
      "Dayton, OH, USA\n",
      "Enter location: \n"
     ]
    }
   ],
   "source": [
    "import urllib.request, urllib.parse, urllib.error\n",
    "import xml.etree.ElementTree as ET\n",
    "import ssl\n",
    "\n",
    "api_key = False\n",
    "# If you have a Google Places API key, enter it here\n",
    "# api_key = 'AIzaSy___IDByT70'\n",
    "# https://developers.google.com/maps/documentation/geocoding/intro\n",
    "\n",
    "if api_key is False:\n",
    "    api_key = 42\n",
    "    serviceurl = 'http://py4e-data.dr-chuck.net/xml?'\n",
    "else :\n",
    "    serviceurl = 'https://maps.googleapis.com/maps/api/geocode/xml?'\n",
    "\n",
    "# Ignore SSL certificate errors\n",
    "ctx = ssl.create_default_context()\n",
    "ctx.check_hostname = False\n",
    "ctx.verify_mode = ssl.CERT_NONE\n",
    "\n",
    "while True:\n",
    "    address = input('Enter location: ')\n",
    "    if len(address) < 1: break\n",
    "\n",
    "    parms = dict()\n",
    "    parms['address'] = address\n",
    "    if api_key is not False: parms['key'] = api_key\n",
    "    url = serviceurl + urllib.parse.urlencode(parms)\n",
    "    print('Retrieving', url)\n",
    "    uh = urllib.request.urlopen(url, context=ctx)\n",
    "\n",
    "    data = uh.read()\n",
    "    print('Retrieved', len(data), 'characters')\n",
    "    print(data.decode())\n",
    "    tree = ET.fromstring(data)\n",
    "\n",
    "    results = tree.findall('result')\n",
    "    lat = results[0].find('geometry').find('location').find('lat').text\n",
    "    lng = results[0].find('geometry').find('location').find('lng').text\n",
    "    location = results[0].find('formatted_address').text\n",
    "\n",
    "    print('lat', lat, 'lng', lng)\n",
    "    print(location)"
   ]
  },
  {
   "cell_type": "markdown",
   "metadata": {},
   "source": [
    "### 13.8 OAuth and Twitter API\n",
    "\n",
    "See the codes part.\n",
    "\n",
    "### 13.9 Glossary\n",
    "### 13.10 Exercises"
   ]
  },
  {
   "cell_type": "code",
   "execution_count": 4,
   "metadata": {},
   "outputs": [
    {
     "name": "stdout",
     "output_type": "stream",
     "text": [
      "Enter location: http://py4e-data.dr-chuck.net/comments_216872.xml\n",
      "50\n",
      "2539\n"
     ]
    }
   ],
   "source": [
    "# web1\n",
    "import urllib.request, urllib.parse, urllib.error\n",
    "import xml.etree.ElementTree as ET\n",
    "import ssl\n",
    "\n",
    "url = input(\"Enter location:\")\n",
    "\n",
    "# Ignore SSL certificate errors\n",
    "ctx = ssl.create_default_context()\n",
    "ctx.check_hostname = False\n",
    "ctx.verify_mode = ssl.CERT_NONE\n",
    "\n",
    "uh = urllib.request.urlopen(url, context=ctx)\n",
    "data = uh.read()\n",
    "tree = ET.fromstring(data)\n",
    "results = tree.findall('.//count')\n",
    "acc = 0\n",
    "count =0\n",
    "for result in results:\n",
    "    #print(result.text)\n",
    "    acc = int(result.text)+acc\n",
    "    count = count + 1\n",
    "\n",
    "print(count)\n",
    "print(acc)\n"
   ]
  },
  {
   "cell_type": "code",
   "execution_count": 19,
   "metadata": {},
   "outputs": [
    {
     "name": "stdout",
     "output_type": "stream",
     "text": [
      "Enter location: http://py4e-data.dr-chuck.net/comments_216873.json\n",
      "User count: 2\n",
      "50\n",
      "2507\n"
     ]
    }
   ],
   "source": [
    "# web2\n",
    "import json\n",
    "import urllib.request, urllib.parse, urllib.error\n",
    "import ssl\n",
    "\n",
    "url = input(\"Enter location:\")\n",
    "\n",
    "# Ignore SSL certificate errors\n",
    "ctx = ssl.create_default_context()\n",
    "ctx.check_hostname = False\n",
    "ctx.verify_mode = ssl.CERT_NONE\n",
    "\n",
    "uh = urllib.request.urlopen(url, context=ctx)\n",
    "data = uh.read()\n",
    "\n",
    "info = json.loads(data)\n",
    "print('User count:', len(info))\n",
    "\n",
    "acc=0\n",
    "count=0\n",
    "for item in info[\"comments\"]:\n",
    "    acc = item[\"count\"] + acc\n",
    "    count = count + 1\n",
    "print(count)\n",
    "print(acc)"
   ]
  },
  {
   "cell_type": "code",
   "execution_count": 2,
   "metadata": {},
   "outputs": [
    {
     "name": "stdout",
     "output_type": "stream",
     "text": [
      "Enter location: University of Wisconsin\n",
      "Retrieving http://py4e-data.dr-chuck.net/json?address=University+of+Wisconsin&key=42\n",
      "Retrieved 1804 characters\n",
      "ChIJHUh_CpWsB4gRZDpzkeBl4Mk\n",
      "Enter location: \n"
     ]
    }
   ],
   "source": [
    "# web3\n",
    "import urllib.request, urllib.parse, urllib.error\n",
    "import json\n",
    "import ssl\n",
    "\n",
    "api_key = False\n",
    "# If you have a Google Places API key, enter it here\n",
    "# api_key = 'AIzaSy___IDByT70'\n",
    "# https://developers.google.com/maps/documentation/geocoding/intro\n",
    "\n",
    "if api_key is False:\n",
    "    api_key = 42\n",
    "    serviceurl = 'http://py4e-data.dr-chuck.net/json?'\n",
    "else :\n",
    "    serviceurl = 'https://maps.googleapis.com/maps/api/geocode/json?'\n",
    "\n",
    "# Ignore SSL certificate errors\n",
    "ctx = ssl.create_default_context()\n",
    "ctx.check_hostname = False\n",
    "ctx.verify_mode = ssl.CERT_NONE\n",
    "\n",
    "while True:\n",
    "    address = input('Enter location: ')\n",
    "    if len(address) < 1: break\n",
    "\n",
    "    parms = dict()\n",
    "    parms['address'] = address\n",
    "    if api_key is not False: parms['key'] = api_key\n",
    "    url = serviceurl + urllib.parse.urlencode(parms)\n",
    "\n",
    "    print('Retrieving', url)\n",
    "    uh = urllib.request.urlopen(url, context=ctx)\n",
    "    data = uh.read().decode()\n",
    "    print('Retrieved', len(data), 'characters')\n",
    "\n",
    "    try:\n",
    "        js = json.loads(data)\n",
    "    except:\n",
    "        js = None\n",
    "\n",
    "    if not js or 'status' not in js or js['status'] != 'OK':\n",
    "        print('==== Failure To Retrieve ====')\n",
    "        print(data)\n",
    "        continue\n",
    "\n",
    "    # print(json.dumps(js, indent=4))\n",
    "\n",
    "    placeID = js['results'][0]['place_id']\n",
    "    print(placeID)"
   ]
  }
 ],
 "metadata": {
  "kernelspec": {
   "display_name": "Python 3",
   "language": "python",
   "name": "python3"
  },
  "language_info": {
   "codemirror_mode": {
    "name": "ipython",
    "version": 3
   },
   "file_extension": ".py",
   "mimetype": "text/x-python",
   "name": "python",
   "nbconvert_exporter": "python",
   "pygments_lexer": "ipython3",
   "version": "3.7.3"
  }
 },
 "nbformat": 4,
 "nbformat_minor": 2
}
